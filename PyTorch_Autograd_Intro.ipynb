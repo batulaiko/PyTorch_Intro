{
 "cells": [
  {
   "cell_type": "markdown",
   "id": "9d431ea9-076b-4097-9b26-6406e59c1879",
   "metadata": {},
   "source": [
    "# PyTorch Autograd Intro\n",
    "## Autograd is PyTorch module that computes gradients (derivatives) automatically\n",
    "### Autograd constructs DAG (Directed Acyclic Graph) to record operations on tensors, then applied backpropagation to calculate partial derivates\n",
    "* A GENTLE INTRODUCTION TO TORCH.AUTOGRAD: https://pytorch.org/tutorials/beginner/blitz/autograd_tutorial.html?highlight=autograd\n",
    "* AUTOMATIC DIFFERENTIATION WITH TORCH.AUTOGRAD: https://pytorch.org/tutorials/beginner/basics/autogradqs_tutorial.html?highlight=autograd\n",
    "* THE FUNDAMENTALS OF AUTOGRAD: https://pytorch.org/tutorials/beginner/introyt/autogradyt_tutorial.html?highlight=autograd\n",
    "* AUTOGRAD MECHANICS https://pytorch.org/docs/stable/notes/autograd.html"
   ]
  },
  {
   "cell_type": "code",
   "execution_count": 1,
   "id": "f5405008-28f7-4feb-bd1d-4c7526d4eb68",
   "metadata": {},
   "outputs": [],
   "source": [
    "# !pip install torchviz\n",
    "# !sudo apt install graphviz"
   ]
  },
  {
   "cell_type": "code",
   "execution_count": 2,
   "id": "8bebd85f-622c-4101-afde-36bdcc586223",
   "metadata": {},
   "outputs": [],
   "source": [
    "import torch\n",
    "import torch.nn as nn\n",
    "import torch.nn.functional as F\n",
    "\n",
    "from torchviz import make_dot, make_dot_from_trace\n",
    "\n",
    "import matplotlib.pyplot as plt"
   ]
  },
  {
   "cell_type": "markdown",
   "id": "f4f9a18e-5f98-4b89-b2bb-db34e1aa75a6",
   "metadata": {},
   "source": [
    "# Initialize Tensors with Gradient Calculation"
   ]
  },
  {
   "cell_type": "code",
   "execution_count": 3,
   "id": "966a862e-4838-48b1-8ad3-8fadff3deffc",
   "metadata": {},
   "outputs": [
    {
     "data": {
      "text/plain": [
       "tensor(3., requires_grad=True)"
      ]
     },
     "execution_count": 3,
     "metadata": {},
     "output_type": "execute_result"
    }
   ],
   "source": [
    "x = torch.tensor(3.0, requires_grad=True)\n",
    "x"
   ]
  },
  {
   "cell_type": "code",
   "execution_count": 4,
   "id": "92d22a1b-c2d2-44dd-b74a-a29eed981990",
   "metadata": {},
   "outputs": [
    {
     "data": {
      "text/plain": [
       "tensor(42., grad_fn=<AddBackward0>)"
      ]
     },
     "execution_count": 4,
     "metadata": {},
     "output_type": "execute_result"
    }
   ],
   "source": [
    "y = 3 * (x**2) + 15\n",
    "y"
   ]
  },
  {
   "cell_type": "markdown",
   "id": "23c03cec-8172-4611-8559-bc345e1e77f9",
   "metadata": {},
   "source": [
    "# Compute gradients with backpropagation"
   ]
  },
  {
   "cell_type": "code",
   "execution_count": 5,
   "id": "94bafafe-6e8c-4043-8846-4d6ff1f12185",
   "metadata": {},
   "outputs": [],
   "source": [
    "y.backward()"
   ]
  },
  {
   "cell_type": "markdown",
   "id": "377e14a7-26de-4c72-af54-e6b2c04f98fd",
   "metadata": {},
   "source": [
    "### Dervative of the equation at x = 3\n",
    "### $y= 3x^2 + 15$ \n",
    "#### ${\\frac{\\partial y}{\\partial x}} = 3 * 2 * x = 6x$\n",
    "### Remember we set 3 as x above\n",
    "#### ${\\frac{\\partial y}{\\partial x}}|_{x=3} = 6 * 3 = 18$"
   ]
  },
  {
   "cell_type": "markdown",
   "id": "2169c078-b4e2-4eed-9f21-fbd9a6b7fcd5",
   "metadata": {},
   "source": [
    "## We can access computed gradients in *.grad* attribute"
   ]
  },
  {
   "cell_type": "code",
   "execution_count": 6,
   "id": "d8451ce4-3d87-493c-ac3c-a8dbaaeea338",
   "metadata": {},
   "outputs": [
    {
     "data": {
      "text/plain": [
       "tensor(18.)"
      ]
     },
     "execution_count": 6,
     "metadata": {},
     "output_type": "execute_result"
    }
   ],
   "source": [
    "x.grad"
   ]
  },
  {
   "cell_type": "markdown",
   "id": "b2c654f9-a016-4b50-a989-4fb1da47042a",
   "metadata": {},
   "source": [
    "## Original data in tensor"
   ]
  },
  {
   "cell_type": "code",
   "execution_count": 7,
   "id": "47bbb654-1d37-4fb0-bcdc-d5abf4373273",
   "metadata": {},
   "outputs": [
    {
     "data": {
      "text/plain": [
       "tensor(3.)"
      ]
     },
     "execution_count": 7,
     "metadata": {},
     "output_type": "execute_result"
    }
   ],
   "source": [
    "x.data"
   ]
  },
  {
   "cell_type": "markdown",
   "id": "ae9fdad1-05a5-4a45-9dfe-1a183e70f0ed",
   "metadata": {},
   "source": [
    "## Is tensor a leaf in DAG Tree\n",
    "* Remember autograd computes derivates in a backpropagation graph"
   ]
  },
  {
   "cell_type": "code",
   "execution_count": 8,
   "id": "5e89a1b7-2dc1-45fe-9231-b9abf7db4dc1",
   "metadata": {},
   "outputs": [
    {
     "data": {
      "text/plain": [
       "True"
      ]
     },
     "execution_count": 8,
     "metadata": {},
     "output_type": "execute_result"
    }
   ],
   "source": [
    "x.is_leaf"
   ]
  },
  {
   "cell_type": "markdown",
   "id": "2b130bb0-e56b-4c32-8823-60ed6fb256d9",
   "metadata": {},
   "source": [
    "## Grad function is used for computing the gradients \n",
    "### Since x is leaf, there no grad function\n",
    "* Each mathematical operation have a unique function ex: *AddBackward0*, *SumBackward0*, *MulBackward0* etc."
   ]
  },
  {
   "cell_type": "code",
   "execution_count": 9,
   "id": "108e4c08-267b-43a5-bafc-447d04c6357b",
   "metadata": {},
   "outputs": [],
   "source": [
    "x.grad_fn"
   ]
  },
  {
   "cell_type": "markdown",
   "id": "13564ff9-c98b-4703-ae9d-9fe4167f4f0f",
   "metadata": {},
   "source": [
    "# What about y?\n",
    "### y is an intermediate step to calculate gradients of x, *y doen't have any gradients but has a gradient funciton*\n",
    "#### See **chain rule**"
   ]
  },
  {
   "cell_type": "code",
   "execution_count": 10,
   "id": "19d077a6-60bc-4e2b-92ab-b6324902691a",
   "metadata": {},
   "outputs": [
    {
     "name": "stdout",
     "output_type": "stream",
     "text": [
      "data: 42.0\n",
      "grad: None\n",
      "grad function: <AddBackward0 object at 0x7fea72191e10>\n",
      "is_leaf?: False\n",
      "requires_grad? True\n"
     ]
    },
    {
     "name": "stderr",
     "output_type": "stream",
     "text": [
      "/tmp/ipykernel_962/1784889899.py:2: UserWarning: The .grad attribute of a Tensor that is not a leaf Tensor is being accessed. Its .grad attribute won't be populated during autograd.backward(). If you indeed want the .grad field to be populated for a non-leaf Tensor, use .retain_grad() on the non-leaf Tensor. If you access the non-leaf Tensor by mistake, make sure you access the leaf Tensor instead. See github.com/pytorch/pytorch/pull/30531 for more informations. (Triggered internally at aten/src/ATen/core/TensorBody.h:489.)\n",
      "  print(f'grad: {y.grad}')\n"
     ]
    }
   ],
   "source": [
    "print(f'data: {y.data}')\n",
    "print(f'grad: {y.grad}')\n",
    "print(f'grad function: {y.grad_fn}')\n",
    "print(f'is_leaf?: {y.is_leaf}')\n",
    "print(f'requires_grad? {y.requires_grad}')"
   ]
  },
  {
   "cell_type": "markdown",
   "id": "a650cbb8-2770-4804-a485-70824a309ab4",
   "metadata": {
    "tags": []
   },
   "source": [
    "# Another Example\n",
    "### $y= 6x^2 + 2x + 4$ \n",
    "#### ${\\frac{\\partial y}{\\partial x}} = 12x + 2$\n",
    "#### ${\\frac{\\partial y}{\\partial x}}|_{x=2} = 12*2 + 2 = 26$"
   ]
  },
  {
   "cell_type": "code",
   "execution_count": 11,
   "id": "a70fb9bd-9785-4f44-8fbb-bc28cbdb3945",
   "metadata": {},
   "outputs": [
    {
     "name": "stdout",
     "output_type": "stream",
     "text": [
      "Result y: 32.0\n",
      "Derivative of the equation at x=2 is: 26.0\n"
     ]
    }
   ],
   "source": [
    "x = torch.tensor(2.0, requires_grad=True)\n",
    "y = 6*(x**2) + 2*x + 4\n",
    "\n",
    "print(f'Result y: {y}')\n",
    "\n",
    "y.backward()\n",
    "print(f'Derivative of the equation at x=2 is: {x.grad}')"
   ]
  },
  {
   "cell_type": "markdown",
   "id": "b35aa390-4fa7-4d68-91ff-e97182fa7437",
   "metadata": {},
   "source": [
    "# Partial Derivative Example\n",
    "### $y= x_1^3 + x_2^2 + 4x_1x_2 + 5$ \n",
    "#### ${\\frac{\\partial y}{\\partial x_1}} = 3x_1^2 + 4x_2$\n",
    "#### ${\\frac{\\partial y}{\\partial x_2}} = 2x_2 + 4x_1$\n",
    "\n",
    "#### ${\\frac{\\partial y}{\\partial x_1}}|_{x_1=3, x_2=4} = 3*3^2 + 4*4 = 43$\n",
    "#### ${\\frac{\\partial y}{\\partial x_2}}|_{x_1=3, x_2=4} = 2*4 + 4*3 = 20$"
   ]
  },
  {
   "cell_type": "code",
   "execution_count": 12,
   "id": "25fb0f3d-61e7-47de-9d26-84e7fdb6264e",
   "metadata": {},
   "outputs": [
    {
     "name": "stdout",
     "output_type": "stream",
     "text": [
      "tensor(3.)\n",
      "tensor(4.)\n",
      "tensor(96.)\n"
     ]
    }
   ],
   "source": [
    "x1 = torch.tensor(3., requires_grad=True)\n",
    "x2 = torch.tensor(4., requires_grad=True)\n",
    " \n",
    "y = x1**3 + x2**2 + 4*x1*x2 + 5\n",
    " \n",
    "print(x1.data)\n",
    "print(x2.data)\n",
    "print(y.data)"
   ]
  },
  {
   "cell_type": "code",
   "execution_count": 13,
   "id": "8a777ab8-2381-4e34-95d5-9df573b18a37",
   "metadata": {},
   "outputs": [
    {
     "name": "stdout",
     "output_type": "stream",
     "text": [
      "Partial derivative with respect to x1: 43.0\n",
      "Partial derivative with respect to x2: 20.0\n"
     ]
    }
   ],
   "source": [
    "y.backward()\n",
    "print(f'Partial derivative with respect to x1: {x1.grad}')\n",
    "print(f'Partial derivative with respect to x2: {x2.grad}')"
   ]
  },
  {
   "cell_type": "markdown",
   "id": "43ca228a-0af8-417b-911f-09711c3e3978",
   "metadata": {},
   "source": [
    "# IMPORTANT: By default, PyTorch accumulates (sums) gradients\n",
    "### Multiple calls to backward()"
   ]
  },
  {
   "cell_type": "code",
   "execution_count": 14,
   "id": "67230239-7887-4a83-9302-3739f7864fbd",
   "metadata": {},
   "outputs": [
    {
     "data": {
      "text/plain": [
       "tensor(18.)"
      ]
     },
     "execution_count": 14,
     "metadata": {},
     "output_type": "execute_result"
    }
   ],
   "source": [
    "x = torch.tensor(3.0, requires_grad=True)\n",
    "y = 3 * (x**2) + 15\n",
    "y.backward()\n",
    "x.grad"
   ]
  },
  {
   "cell_type": "code",
   "execution_count": 15,
   "id": "7edb632e-c0b9-49f6-97da-9daa0bd9c933",
   "metadata": {},
   "outputs": [
    {
     "data": {
      "text/plain": [
       "tensor(36.)"
      ]
     },
     "execution_count": 15,
     "metadata": {},
     "output_type": "execute_result"
    }
   ],
   "source": [
    "y = 3 * (x**2) + 15\n",
    "y.backward()\n",
    "x.grad"
   ]
  },
  {
   "cell_type": "markdown",
   "id": "33c1b30b-c29c-43e7-888a-e8aefeaf76cb",
   "metadata": {},
   "source": [
    "### Zero gradients before next backward() call"
   ]
  },
  {
   "cell_type": "code",
   "execution_count": 16,
   "id": "a324d885-77c4-436a-9d01-6d03151c8469",
   "metadata": {},
   "outputs": [
    {
     "data": {
      "text/plain": [
       "tensor(18.)"
      ]
     },
     "execution_count": 16,
     "metadata": {},
     "output_type": "execute_result"
    }
   ],
   "source": [
    "x.grad.zero_()\n",
    "y = 3 * (x**2) + 15\n",
    "y.backward()\n",
    "x.grad"
   ]
  },
  {
   "cell_type": "code",
   "execution_count": 17,
   "id": "575cff51-4206-4d28-98c8-bc8ca0f916d9",
   "metadata": {},
   "outputs": [
    {
     "data": {
      "text/plain": [
       "tensor(18.)"
      ]
     },
     "execution_count": 17,
     "metadata": {},
     "output_type": "execute_result"
    }
   ],
   "source": [
    "x.grad.zero_()\n",
    "y = 3 * (x**2) + 15\n",
    "y.backward()\n",
    "x.grad"
   ]
  },
  {
   "cell_type": "markdown",
   "id": "61ccb32b-1328-4a13-993a-ab61b7c41ee7",
   "metadata": {},
   "source": [
    "# Automatic Inclusion/Exclusion from the DAG"
   ]
  },
  {
   "cell_type": "code",
   "execution_count": 18,
   "id": "47d1c655-3303-4a8a-a591-e699f907f8f4",
   "metadata": {},
   "outputs": [
    {
     "name": "stdout",
     "output_type": "stream",
     "text": [
      "Does 'a' require gradients?: False\n",
      "Does 'b' require gradients?: True\n"
     ]
    }
   ],
   "source": [
    "x = torch.rand(5, 5)\n",
    "y = torch.rand(5, 5)\n",
    "z = torch.rand((5, 5), requires_grad=True)\n",
    "\n",
    "a = x + y\n",
    "print(f\"Does 'a' require gradients?: {a.requires_grad}\")\n",
    "b = x + z\n",
    "print(f\"Does 'b' require gradients?: {b.requires_grad}\")"
   ]
  },
  {
   "cell_type": "markdown",
   "id": "20d4aa21-2a4e-4573-8227-6a4d5626f64c",
   "metadata": {},
   "source": [
    "# Remove a tensor from the backpropagation graph\n",
    "## Detaching a tensor"
   ]
  },
  {
   "cell_type": "code",
   "execution_count": 19,
   "id": "52ca5508-4493-4062-a93c-65ebf06473b5",
   "metadata": {},
   "outputs": [
    {
     "data": {
      "text/plain": [
       "tensor([[0.0519, 0.3131],\n",
       "        [0.7578, 0.3619]], requires_grad=True)"
      ]
     },
     "execution_count": 19,
     "metadata": {},
     "output_type": "execute_result"
    }
   ],
   "source": [
    "tensor_with_grad = torch.rand((2, 2), requires_grad=True)\n",
    "tensor_with_grad"
   ]
  },
  {
   "cell_type": "code",
   "execution_count": 20,
   "id": "f34f9044-13cf-4a53-9145-164e0edf2d04",
   "metadata": {},
   "outputs": [
    {
     "data": {
      "text/plain": [
       "tensor([[0.0519, 0.3131],\n",
       "        [0.7578, 0.3619]])"
      ]
     },
     "execution_count": 20,
     "metadata": {},
     "output_type": "execute_result"
    }
   ],
   "source": [
    "tensor_with_grad.detach()"
   ]
  },
  {
   "cell_type": "markdown",
   "id": "4b7d5d0d-76ad-4d60-986d-fae4a566196e",
   "metadata": {},
   "source": [
    "### Note that this is a non-destructive operation"
   ]
  },
  {
   "cell_type": "code",
   "execution_count": 21,
   "id": "8cf60ade-1337-4597-85a0-12c59e5e51ef",
   "metadata": {},
   "outputs": [
    {
     "data": {
      "text/plain": [
       "True"
      ]
     },
     "execution_count": 21,
     "metadata": {},
     "output_type": "execute_result"
    }
   ],
   "source": [
    "tensor_with_grad.requires_grad"
   ]
  },
  {
   "cell_type": "markdown",
   "id": "88e3b3db-406c-40ee-844e-b5243ec75db9",
   "metadata": {},
   "source": [
    "# Common use: detach and clone a tensor"
   ]
  },
  {
   "cell_type": "code",
   "execution_count": 22,
   "id": "779ee5bf-f4ae-4163-b66e-c3a9b7c7d247",
   "metadata": {},
   "outputs": [
    {
     "data": {
      "text/plain": [
       "tensor([[0.0519, 0.3131],\n",
       "        [0.7578, 0.3619]])"
      ]
     },
     "execution_count": 22,
     "metadata": {},
     "output_type": "execute_result"
    }
   ],
   "source": [
    "tensor_clone = tensor_with_grad.detach().clone()\n",
    "tensor_clone"
   ]
  },
  {
   "cell_type": "markdown",
   "id": "a87978b5-5f59-4162-8b78-ec573e4ca0aa",
   "metadata": {},
   "source": [
    "# Autograd Profiling"
   ]
  },
  {
   "cell_type": "code",
   "execution_count": 23,
   "id": "7ca3692f-1e52-4f17-9433-d0eee7771c6e",
   "metadata": {},
   "outputs": [
    {
     "name": "stderr",
     "output_type": "stream",
     "text": [
      "WARNING:2023-12-06 11:07:53 962:962 init.cpp:155] function cbapi->getCuptiStatus() failed with error CUPTI_ERROR_NOT_INITIALIZED (15)\n",
      "WARNING:2023-12-06 11:07:53 962:962 init.cpp:156] CUPTI initialization failed - CUDA profiler activities will be missing\n",
      "INFO:2023-12-06 11:07:53 962:962 init.cpp:158] If you see CUPTI_ERROR_INSUFFICIENT_PRIVILEGES, refer to https://developer.nvidia.com/nvidia-development-tools-solutions-err-nvgpuctrperm-cupti\n",
      "STAGE:2023-12-06 11:07:53 962:962 ActivityProfilerController.cpp:312] Completed Stage: Warm Up\n",
      "STAGE:2023-12-06 11:07:53 962:962 ActivityProfilerController.cpp:318] Completed Stage: Collection\n",
      "STAGE:2023-12-06 11:07:53 962:962 ActivityProfilerController.cpp:322] Completed Stage: Post Processing\n"
     ]
    }
   ],
   "source": [
    "x = torch.randn((1, 1), requires_grad=True)\n",
    "\n",
    "with torch.autograd.profiler.profile() as prof:\n",
    "    for _ in range(100):\n",
    "        y = x ** 2 + x\n",
    "        y.backward()"
   ]
  },
  {
   "cell_type": "code",
   "execution_count": 24,
   "id": "761d72e7-a87f-4021-bbbd-292cf75a3318",
   "metadata": {},
   "outputs": [
    {
     "name": "stdout",
     "output_type": "stream",
     "text": [
      "-------------------------------------------------------  ------------  ------------  ------------  ------------  ------------  ------------  \n",
      "                                                   Name    Self CPU %      Self CPU   CPU total %     CPU total  CPU time avg    # of Calls  \n",
      "-------------------------------------------------------  ------------  ------------  ------------  ------------  ------------  ------------  \n",
      "                                              aten::pow        35.87%     821.000us        36.44%     834.000us       4.170us           200  \n",
      "                                       aten::empty_like        21.67%     496.000us        22.06%     505.000us       5.050us           100  \n",
      "                                              aten::mul         8.87%     203.000us        18.26%     418.000us       1.727us           242  \n",
      "                                           PowBackward0         6.77%     155.000us        31.32%     717.000us       7.170us           100  \n",
      "      autograd::engine::evaluate_function: PowBackward0         6.07%     139.000us        37.96%     869.000us       8.690us           100  \n",
      "                                         aten::_to_copy         5.50%     126.000us         5.59%     128.000us       1.280us           100  \n",
      "autograd::engine::evaluate_function: torch::autograd...         5.33%     122.000us         6.07%     139.000us       1.390us           100  \n",
      "                                              aten::add         3.06%      70.000us         3.06%      70.000us       0.350us           200  \n",
      "                                               aten::to         2.97%      68.000us         8.39%     192.000us       0.640us           300  \n",
      "                                        aten::ones_like         1.05%      24.000us        23.15%     530.000us       5.300us           100  \n",
      "                        torch::autograd::AccumulateGrad         0.70%      16.000us         1.18%      27.000us       0.270us           100  \n",
      "                                            aten::copy_         0.52%      12.000us         0.52%      12.000us       0.060us           200  \n",
      "      autograd::engine::evaluate_function: AddBackward0         0.48%      11.000us         0.61%      14.000us       0.140us           100  \n",
      "                                    aten::empty_strided         0.39%       9.000us         0.39%       9.000us       0.045us           200  \n",
      "                                             aten::add_         0.26%       6.000us         0.26%       6.000us       0.061us            99  \n",
      "                                           AddBackward0         0.13%       3.000us         0.13%       3.000us       0.030us           100  \n",
      "                                                 detach         0.13%       3.000us         0.13%       3.000us       3.000us             1  \n",
      "                                      aten::result_type         0.09%       2.000us         0.09%       2.000us       0.010us           200  \n",
      "                                           aten::detach         0.09%       2.000us         0.22%       5.000us       5.000us             1  \n",
      "                                            aten::fill_         0.04%       1.000us         0.04%       1.000us       0.010us           100  \n",
      "-------------------------------------------------------  ------------  ------------  ------------  ------------  ------------  ------------  \n",
      "Self CPU time total: 2.289ms\n",
      "\n"
     ]
    }
   ],
   "source": [
    "print(prof.key_averages().table(sort_by='self_cpu_time_total'))"
   ]
  },
  {
   "cell_type": "markdown",
   "id": "91e2a062-1510-4b6a-98fe-88692ce57fc2",
   "metadata": {},
   "source": [
    "# Backpropagation Visulizations\n",
    "### NOTE: You need to install graphviz to your computer!"
   ]
  },
  {
   "cell_type": "code",
   "execution_count": 25,
   "id": "0ce132b4-65bc-4bb5-89da-3311529fe1bd",
   "metadata": {},
   "outputs": [
    {
     "data": {
      "image/svg+xml": [
       "<?xml version=\"1.0\" encoding=\"UTF-8\" standalone=\"no\"?>\n",
       "<!DOCTYPE svg PUBLIC \"-//W3C//DTD SVG 1.1//EN\"\n",
       " \"http://www.w3.org/Graphics/SVG/1.1/DTD/svg11.dtd\">\n",
       "<!-- Generated by graphviz version 2.43.0 (0)\n",
       " -->\n",
       "<!-- Title: %3 Pages: 1 -->\n",
       "<svg width=\"109pt\" height=\"270pt\"\n",
       " viewBox=\"0.00 0.00 109.00 270.00\" xmlns=\"http://www.w3.org/2000/svg\" xmlns:xlink=\"http://www.w3.org/1999/xlink\">\n",
       "<g id=\"graph0\" class=\"graph\" transform=\"scale(1 1) rotate(0) translate(4 266)\">\n",
       "<title>%3</title>\n",
       "<polygon fill=\"white\" stroke=\"transparent\" points=\"-4,4 -4,-266 105,-266 105,4 -4,4\"/>\n",
       "<!-- 140644819315712 -->\n",
       "<g id=\"node1\" class=\"node\">\n",
       "<title>140644819315712</title>\n",
       "<polygon fill=\"#caff70\" stroke=\"black\" points=\"77.5,-31 23.5,-31 23.5,0 77.5,0 77.5,-31\"/>\n",
       "<text text-anchor=\"middle\" x=\"50.5\" y=\"-7\" font-family=\"monospace\" font-size=\"10.00\"> ()</text>\n",
       "</g>\n",
       "<!-- 140644913329344 -->\n",
       "<g id=\"node2\" class=\"node\">\n",
       "<title>140644913329344</title>\n",
       "<polygon fill=\"lightgrey\" stroke=\"black\" points=\"95,-86 6,-86 6,-67 95,-67 95,-86\"/>\n",
       "<text text-anchor=\"middle\" x=\"50.5\" y=\"-74\" font-family=\"monospace\" font-size=\"10.00\">SumBackward0</text>\n",
       "</g>\n",
       "<!-- 140644913329344&#45;&gt;140644819315712 -->\n",
       "<g id=\"edge4\" class=\"edge\">\n",
       "<title>140644913329344&#45;&gt;140644819315712</title>\n",
       "<path fill=\"none\" stroke=\"black\" d=\"M50.5,-66.79C50.5,-60.07 50.5,-50.4 50.5,-41.34\"/>\n",
       "<polygon fill=\"black\" stroke=\"black\" points=\"54,-41.19 50.5,-31.19 47,-41.19 54,-41.19\"/>\n",
       "</g>\n",
       "<!-- 140644913318832 -->\n",
       "<g id=\"node3\" class=\"node\">\n",
       "<title>140644913318832</title>\n",
       "<polygon fill=\"lightgrey\" stroke=\"black\" points=\"95,-141 6,-141 6,-122 95,-122 95,-141\"/>\n",
       "<text text-anchor=\"middle\" x=\"50.5\" y=\"-129\" font-family=\"monospace\" font-size=\"10.00\">PowBackward0</text>\n",
       "</g>\n",
       "<!-- 140644913318832&#45;&gt;140644913329344 -->\n",
       "<g id=\"edge1\" class=\"edge\">\n",
       "<title>140644913318832&#45;&gt;140644913329344</title>\n",
       "<path fill=\"none\" stroke=\"black\" d=\"M50.5,-121.75C50.5,-114.8 50.5,-104.85 50.5,-96.13\"/>\n",
       "<polygon fill=\"black\" stroke=\"black\" points=\"54,-96.09 50.5,-86.09 47,-96.09 54,-96.09\"/>\n",
       "</g>\n",
       "<!-- 140644913316960 -->\n",
       "<g id=\"node4\" class=\"node\">\n",
       "<title>140644913316960</title>\n",
       "<polygon fill=\"lightgrey\" stroke=\"black\" points=\"101,-196 0,-196 0,-177 101,-177 101,-196\"/>\n",
       "<text text-anchor=\"middle\" x=\"50.5\" y=\"-184\" font-family=\"monospace\" font-size=\"10.00\">AccumulateGrad</text>\n",
       "</g>\n",
       "<!-- 140644913316960&#45;&gt;140644913318832 -->\n",
       "<g id=\"edge2\" class=\"edge\">\n",
       "<title>140644913316960&#45;&gt;140644913318832</title>\n",
       "<path fill=\"none\" stroke=\"black\" d=\"M50.5,-176.75C50.5,-169.8 50.5,-159.85 50.5,-151.13\"/>\n",
       "<polygon fill=\"black\" stroke=\"black\" points=\"54,-151.09 50.5,-141.09 47,-151.09 54,-151.09\"/>\n",
       "</g>\n",
       "<!-- 140644819315552 -->\n",
       "<g id=\"node5\" class=\"node\">\n",
       "<title>140644819315552</title>\n",
       "<polygon fill=\"lightblue\" stroke=\"black\" points=\"77.5,-262 23.5,-262 23.5,-232 77.5,-232 77.5,-262\"/>\n",
       "<text text-anchor=\"middle\" x=\"50.5\" y=\"-250\" font-family=\"monospace\" font-size=\"10.00\">x</text>\n",
       "<text text-anchor=\"middle\" x=\"50.5\" y=\"-239\" font-family=\"monospace\" font-size=\"10.00\"> (10)</text>\n",
       "</g>\n",
       "<!-- 140644819315552&#45;&gt;140644913316960 -->\n",
       "<g id=\"edge3\" class=\"edge\">\n",
       "<title>140644819315552&#45;&gt;140644913316960</title>\n",
       "<path fill=\"none\" stroke=\"black\" d=\"M50.5,-231.84C50.5,-224.21 50.5,-214.7 50.5,-206.45\"/>\n",
       "<polygon fill=\"black\" stroke=\"black\" points=\"54,-206.27 50.5,-196.27 47,-206.27 54,-206.27\"/>\n",
       "</g>\n",
       "</g>\n",
       "</svg>\n"
      ],
      "text/plain": [
       "<graphviz.graphs.Digraph at 0x7fea72190640>"
      ]
     },
     "execution_count": 25,
     "metadata": {},
     "output_type": "execute_result"
    }
   ],
   "source": [
    "x = torch.ones(10, requires_grad=True)\n",
    "\n",
    "y = (x**2).sum()\n",
    "\n",
    "make_dot(y, params={'x':x}, show_attrs=False, show_saved=False)\n",
    "#make_dot(r, params={'x':x}, show_attrs=False, show_saved=False).render('backprop_graph', format='png')"
   ]
  },
  {
   "cell_type": "code",
   "execution_count": 26,
   "id": "7d4329b8-c5af-4d1b-ae25-66077de6ca7e",
   "metadata": {},
   "outputs": [
    {
     "data": {
      "image/svg+xml": [
       "<?xml version=\"1.0\" encoding=\"UTF-8\" standalone=\"no\"?>\n",
       "<!DOCTYPE svg PUBLIC \"-//W3C//DTD SVG 1.1//EN\"\n",
       " \"http://www.w3.org/Graphics/SVG/1.1/DTD/svg11.dtd\">\n",
       "<!-- Generated by graphviz version 2.43.0 (0)\n",
       " -->\n",
       "<!-- Title: %3 Pages: 1 -->\n",
       "<svg width=\"109pt\" height=\"434pt\"\n",
       " viewBox=\"0.00 0.00 109.00 434.00\" xmlns=\"http://www.w3.org/2000/svg\" xmlns:xlink=\"http://www.w3.org/1999/xlink\">\n",
       "<g id=\"graph0\" class=\"graph\" transform=\"scale(1 1) rotate(0) translate(4 430)\">\n",
       "<title>%3</title>\n",
       "<polygon fill=\"white\" stroke=\"transparent\" points=\"-4,4 -4,-430 105,-430 105,4 -4,4\"/>\n",
       "<!-- 140644819319792 -->\n",
       "<g id=\"node1\" class=\"node\">\n",
       "<title>140644819319792</title>\n",
       "<polygon fill=\"#caff70\" stroke=\"black\" points=\"77.5,-30 23.5,-30 23.5,0 77.5,0 77.5,-30\"/>\n",
       "<text text-anchor=\"middle\" x=\"50.5\" y=\"-18\" font-family=\"monospace\" font-size=\"10.00\">y</text>\n",
       "<text text-anchor=\"middle\" x=\"50.5\" y=\"-7\" font-family=\"monospace\" font-size=\"10.00\"> ()</text>\n",
       "</g>\n",
       "<!-- 140649835921264 -->\n",
       "<g id=\"node2\" class=\"node\">\n",
       "<title>140649835921264</title>\n",
       "<polygon fill=\"lightgrey\" stroke=\"black\" points=\"95,-85 6,-85 6,-66 95,-66 95,-85\"/>\n",
       "<text text-anchor=\"middle\" x=\"50.5\" y=\"-73\" font-family=\"monospace\" font-size=\"10.00\">SumBackward0</text>\n",
       "</g>\n",
       "<!-- 140649835921264&#45;&gt;140644819319792 -->\n",
       "<g id=\"edge7\" class=\"edge\">\n",
       "<title>140649835921264&#45;&gt;140644819319792</title>\n",
       "<path fill=\"none\" stroke=\"black\" d=\"M50.5,-65.87C50.5,-59.11 50.5,-49.35 50.5,-40.26\"/>\n",
       "<polygon fill=\"black\" stroke=\"black\" points=\"54,-40.11 50.5,-30.11 47,-40.11 54,-40.11\"/>\n",
       "</g>\n",
       "<!-- 140644820381280 -->\n",
       "<g id=\"node3\" class=\"node\">\n",
       "<title>140644820381280</title>\n",
       "<polygon fill=\"lightgrey\" stroke=\"black\" points=\"95,-140 6,-140 6,-121 95,-121 95,-140\"/>\n",
       "<text text-anchor=\"middle\" x=\"50.5\" y=\"-128\" font-family=\"monospace\" font-size=\"10.00\">PowBackward0</text>\n",
       "</g>\n",
       "<!-- 140644820381280&#45;&gt;140649835921264 -->\n",
       "<g id=\"edge1\" class=\"edge\">\n",
       "<title>140644820381280&#45;&gt;140649835921264</title>\n",
       "<path fill=\"none\" stroke=\"black\" d=\"M50.5,-120.75C50.5,-113.8 50.5,-103.85 50.5,-95.13\"/>\n",
       "<polygon fill=\"black\" stroke=\"black\" points=\"54,-95.09 50.5,-85.09 47,-95.09 54,-95.09\"/>\n",
       "</g>\n",
       "<!-- 140644820190112 -->\n",
       "<g id=\"node4\" class=\"node\">\n",
       "<title>140644820190112</title>\n",
       "<polygon fill=\"lightgrey\" stroke=\"black\" points=\"95,-195 6,-195 6,-176 95,-176 95,-195\"/>\n",
       "<text text-anchor=\"middle\" x=\"50.5\" y=\"-183\" font-family=\"monospace\" font-size=\"10.00\">MulBackward0</text>\n",
       "</g>\n",
       "<!-- 140644820190112&#45;&gt;140644820381280 -->\n",
       "<g id=\"edge2\" class=\"edge\">\n",
       "<title>140644820190112&#45;&gt;140644820381280</title>\n",
       "<path fill=\"none\" stroke=\"black\" d=\"M50.5,-175.75C50.5,-168.8 50.5,-158.85 50.5,-150.13\"/>\n",
       "<polygon fill=\"black\" stroke=\"black\" points=\"54,-150.09 50.5,-140.09 47,-150.09 54,-150.09\"/>\n",
       "</g>\n",
       "<!-- 140644820201776 -->\n",
       "<g id=\"node5\" class=\"node\">\n",
       "<title>140644820201776</title>\n",
       "<polygon fill=\"lightgrey\" stroke=\"black\" points=\"95,-250 6,-250 6,-231 95,-231 95,-250\"/>\n",
       "<text text-anchor=\"middle\" x=\"50.5\" y=\"-238\" font-family=\"monospace\" font-size=\"10.00\">PowBackward0</text>\n",
       "</g>\n",
       "<!-- 140644820201776&#45;&gt;140644820190112 -->\n",
       "<g id=\"edge3\" class=\"edge\">\n",
       "<title>140644820201776&#45;&gt;140644820190112</title>\n",
       "<path fill=\"none\" stroke=\"black\" d=\"M50.5,-230.75C50.5,-223.8 50.5,-213.85 50.5,-205.13\"/>\n",
       "<polygon fill=\"black\" stroke=\"black\" points=\"54,-205.09 50.5,-195.09 47,-205.09 54,-205.09\"/>\n",
       "</g>\n",
       "<!-- 140644820201824 -->\n",
       "<g id=\"node6\" class=\"node\">\n",
       "<title>140644820201824</title>\n",
       "<polygon fill=\"lightgrey\" stroke=\"black\" points=\"95,-305 6,-305 6,-286 95,-286 95,-305\"/>\n",
       "<text text-anchor=\"middle\" x=\"50.5\" y=\"-293\" font-family=\"monospace\" font-size=\"10.00\">AddBackward0</text>\n",
       "</g>\n",
       "<!-- 140644820201824&#45;&gt;140644820201776 -->\n",
       "<g id=\"edge4\" class=\"edge\">\n",
       "<title>140644820201824&#45;&gt;140644820201776</title>\n",
       "<path fill=\"none\" stroke=\"black\" d=\"M50.5,-285.75C50.5,-278.8 50.5,-268.85 50.5,-260.13\"/>\n",
       "<polygon fill=\"black\" stroke=\"black\" points=\"54,-260.09 50.5,-250.09 47,-260.09 54,-260.09\"/>\n",
       "</g>\n",
       "<!-- 140644820193808 -->\n",
       "<g id=\"node7\" class=\"node\">\n",
       "<title>140644820193808</title>\n",
       "<polygon fill=\"lightgrey\" stroke=\"black\" points=\"101,-360 0,-360 0,-341 101,-341 101,-360\"/>\n",
       "<text text-anchor=\"middle\" x=\"50.5\" y=\"-348\" font-family=\"monospace\" font-size=\"10.00\">AccumulateGrad</text>\n",
       "</g>\n",
       "<!-- 140644820193808&#45;&gt;140644820201824 -->\n",
       "<g id=\"edge5\" class=\"edge\">\n",
       "<title>140644820193808&#45;&gt;140644820201824</title>\n",
       "<path fill=\"none\" stroke=\"black\" d=\"M50.5,-340.75C50.5,-333.8 50.5,-323.85 50.5,-315.13\"/>\n",
       "<polygon fill=\"black\" stroke=\"black\" points=\"54,-315.09 50.5,-305.09 47,-315.09 54,-315.09\"/>\n",
       "</g>\n",
       "<!-- 140644819314112 -->\n",
       "<g id=\"node8\" class=\"node\">\n",
       "<title>140644819314112</title>\n",
       "<polygon fill=\"lightblue\" stroke=\"black\" points=\"77.5,-426 23.5,-426 23.5,-396 77.5,-396 77.5,-426\"/>\n",
       "<text text-anchor=\"middle\" x=\"50.5\" y=\"-414\" font-family=\"monospace\" font-size=\"10.00\">x</text>\n",
       "<text text-anchor=\"middle\" x=\"50.5\" y=\"-403\" font-family=\"monospace\" font-size=\"10.00\"> (10)</text>\n",
       "</g>\n",
       "<!-- 140644819314112&#45;&gt;140644820193808 -->\n",
       "<g id=\"edge6\" class=\"edge\">\n",
       "<title>140644819314112&#45;&gt;140644820193808</title>\n",
       "<path fill=\"none\" stroke=\"black\" d=\"M50.5,-395.84C50.5,-388.21 50.5,-378.7 50.5,-370.45\"/>\n",
       "<polygon fill=\"black\" stroke=\"black\" points=\"54,-370.27 50.5,-360.27 47,-370.27 54,-370.27\"/>\n",
       "</g>\n",
       "</g>\n",
       "</svg>\n"
      ],
      "text/plain": [
       "<graphviz.graphs.Digraph at 0x7fea6c8a2440>"
      ]
     },
     "execution_count": 26,
     "metadata": {},
     "output_type": "execute_result"
    }
   ],
   "source": [
    "x = torch.ones(10, requires_grad=True)\n",
    "\n",
    "y = x + 10\n",
    "z = y ** 2\n",
    "z = z * 10\n",
    "y = (z**2).sum()\n",
    "\n",
    "# Make a render of graph\n",
    "make_dot(y, params={'x':x}, show_attrs=False, show_saved=False).render('backprop_graph', format='png')\n",
    "# Plot graph\n",
    "make_dot(y, params={'x':x, 'y':y}, show_attrs=False, show_saved=False)"
   ]
  },
  {
   "cell_type": "code",
   "execution_count": null,
   "id": "491dfaed-a8c4-48a3-ad5a-3a80388ef587",
   "metadata": {},
   "outputs": [],
   "source": []
  },
  {
   "cell_type": "code",
   "execution_count": null,
   "id": "d06d8e49-0498-4dff-8145-0a0b2e92272a",
   "metadata": {},
   "outputs": [],
   "source": []
  }
 ],
 "metadata": {
  "kernelspec": {
   "display_name": "Python [conda env:pytorch] *",
   "language": "python",
   "name": "conda-env-pytorch-py"
  },
  "language_info": {
   "codemirror_mode": {
    "name": "ipython",
    "version": 3
   },
   "file_extension": ".py",
   "mimetype": "text/x-python",
   "name": "python",
   "nbconvert_exporter": "python",
   "pygments_lexer": "ipython3",
   "version": "3.10.12"
  }
 },
 "nbformat": 4,
 "nbformat_minor": 5
}
