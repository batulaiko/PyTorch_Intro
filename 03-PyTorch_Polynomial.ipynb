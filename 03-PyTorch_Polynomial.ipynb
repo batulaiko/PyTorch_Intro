{
 "cells": [
  {
   "cell_type": "markdown",
   "id": "09fa8d2b-6ab5-4a8d-97db-80b122937140",
   "metadata": {},
   "source": [
    "# Polynomial Model as PyTorch Module \n",
    "* NOTE: graphviz must be installed for visualizations\n",
    "* In linux you can run: sudo apt install graphviz"
   ]
  },
  {
   "cell_type": "code",
   "execution_count": 1,
   "id": "6d6cf53f-a032-4adf-bf78-236d332304fa",
   "metadata": {},
   "outputs": [],
   "source": [
    "# !pip install torchviz\n",
    "# !pip install hiddenlayer\n",
    "# !sudo apt install graphviz"
   ]
  },
  {
   "cell_type": "markdown",
   "id": "d4801515",
   "metadata": {},
   "source": [
    "If you getting crash on `plt.plot()` it is because of `Disposing session as kernel process died ExitCode: 3, Reason: OMP: Error #15: Initializing libiomp5md.dll, but found libiomp5md.dll already initialized.` error. \n",
    "\n",
    "To fix this issue:"
   ]
  },
  {
   "cell_type": "code",
   "execution_count": null,
   "id": "beb8c32a",
   "metadata": {},
   "outputs": [],
   "source": [
    "# import os\n",
    "# os.environ['KMP_DUPLICATE_LIB_OK'] = 'True'"
   ]
  },
  {
   "cell_type": "code",
   "execution_count": 2,
   "id": "e5e11326-57f6-4175-b338-629de4aea2a8",
   "metadata": {},
   "outputs": [
    {
     "data": {
      "text/plain": [
       "<torch._C.Generator at 0x2a5ea06c530>"
      ]
     },
     "execution_count": 2,
     "metadata": {},
     "output_type": "execute_result"
    }
   ],
   "source": [
    "import torch\n",
    "import torch.nn as nn\n",
    "import torch.nn.functional as F\n",
    "\n",
    "from torchviz import make_dot, make_dot_from_trace\n",
    "import hiddenlayer as hl\n",
    "\n",
    "import matplotlib.pyplot as plt\n",
    "import math\n",
    "from datetime import datetime\n",
    "\n",
    "torch.manual_seed(1234)"
   ]
  },
  {
   "cell_type": "markdown",
   "id": "d3185f1f-5ccc-41e6-9c62-654580588eac",
   "metadata": {},
   "source": [
    "# Generate Data"
   ]
  },
  {
   "cell_type": "code",
   "execution_count": 3,
   "id": "f2891910-61d8-4960-b7ad-ad047bd72336",
   "metadata": {},
   "outputs": [
    {
     "data": {
      "image/png": "[encoded data removed]",
      "text/plain": [
       "<Figure size 640x480 with 1 Axes>"
      ]
     },
     "metadata": {},
     "output_type": "display_data"
    }
   ],
   "source": [
    "# Create Tensors to hold input and outputs.\n",
    "x = torch.linspace(0.1, 10, 100)\n",
    "y = (x**2) + x + 5\n",
    "#y = torch.sin(2*torch.pi*x*0.1)\n",
    "#y =  (x**3) + x ** 2 + x - 10\n",
    "\n",
    "y /= y.abs().max()\n",
    "plt.plot(y, label='original')\n",
    "plt.grid()"
   ]
  },
  {
   "cell_type": "markdown",
   "id": "a3b6fbae-71a6-4765-8789-8b34e9e528ee",
   "metadata": {},
   "source": [
    "# Polynomial Model\n",
    "* We are using *nn.Parameters()* for trainable parameters\n",
    "* You can think nn.Parameters() are just **tensors with requires_grad=True**\n",
    "* Other PyTorch modules use nn.Parameters() to build common deep learning blocks\n",
    "* See: nn.Linear, nn.Conv2d, nn.GRU, nn.LSTM, nn.Transformer"
   ]
  },
  {
   "cell_type": "code",
   "execution_count": 4,
   "id": "3c49a631-383d-476d-ace2-ae85dcd347c8",
   "metadata": {},
   "outputs": [],
   "source": [
    "class PolynomialModel(torch.nn.Module):\n",
    "    def __init__(self):\n",
    "        super().__init__()\n",
    "        # Initialize model parameters\n",
    "        self.w0 = nn.Parameter(torch.randn(1)) # torch.tensor(torch.randn(1), requires_grad=True)\n",
    "        self.w1 = nn.Parameter(torch.randn(1))\n",
    "        self.w2 = nn.Parameter(torch.randn(1))\n",
    "        \n",
    "    # Forward pass\n",
    "    # YOU MUST IMPLEMENT THIS FUNCTION\n",
    "    def forward(self, x):\n",
    "        return self.w0 + self.w1 * x + self.w2 * (x ** 2)\n",
    "        # Another model\n",
    "        #return self.w0 + self.w1 * x + self.w2 * (x ** 3)\n",
    "\n",
    "    # Optional function for printing polynomial\n",
    "    def string(self):\n",
    "        return f'y = {self.w0.item():.4f} + {self.w1.item():.4f} x + {self.w2.item():.4f} x^2'"
   ]
  },
  {
   "cell_type": "markdown",
   "id": "39b05217-4f1e-42dc-86f3-7c56cf3e5f4f",
   "metadata": {},
   "source": [
    "### Intialize Model\n",
    "\n",
    "`.string()` function prints the mathematical function itself in string format. "
   ]
  },
  {
   "cell_type": "code",
   "execution_count": 5,
   "id": "ef176970-2cd3-447e-b9eb-b56255024213",
   "metadata": {},
   "outputs": [
    {
     "name": "stdout",
     "output_type": "stream",
     "text": [
      "y = 0.0461 + 0.4024 x + -1.0115 x^2\n"
     ]
    }
   ],
   "source": [
    "# Construct our model by instantiating the class defined above\n",
    "model = PolynomialModel()\n",
    "print(model.string())"
   ]
  },
  {
   "cell_type": "markdown",
   "id": "a6300094-3ae6-448c-8156-b9e17b08eae6",
   "metadata": {},
   "source": [
    "## Print Model Parameters\n",
    "parameters are the weights of the `PolynomialModel()`. The value of the weights also visible in a user-friendly way via `.string()` function."
   ]
  },
  {
   "cell_type": "code",
   "execution_count": 6,
   "id": "741cda62-fc47-4631-9d78-ff1914e67747",
   "metadata": {},
   "outputs": [
    {
     "name": "stdout",
     "output_type": "stream",
     "text": [
      "Parameter containing:\n",
      "tensor([0.0461], requires_grad=True)\n",
      "Parameter containing:\n",
      "tensor([0.4024], requires_grad=True)\n",
      "Parameter containing:\n",
      "tensor([-1.0115], requires_grad=True)\n"
     ]
    }
   ],
   "source": [
    "for p in model.parameters():\n",
    "    print(p)"
   ]
  },
  {
   "cell_type": "markdown",
   "id": "81417027-9bdc-435e-b4e1-74f66ae91605",
   "metadata": {},
   "source": [
    "## Pretty Print with Names"
   ]
  },
  {
   "cell_type": "code",
   "execution_count": 7,
   "id": "880df98c-a96b-4ae3-96c0-9b1b199d928c",
   "metadata": {},
   "outputs": [
    {
     "name": "stdout",
     "output_type": "stream",
     "text": [
      "name: w0 and parameter data: tensor([0.0461])\n",
      "name: w1 and parameter data: tensor([0.4024])\n",
      "name: w2 and parameter data: tensor([-1.0115])\n"
     ]
    }
   ],
   "source": [
    "for n, p in model.named_parameters():\n",
    "    print(f'name: {n} and parameter data: {p.data}')"
   ]
  },
  {
   "cell_type": "markdown",
   "id": "8d273e23-8e35-4aa0-bcc0-c4388a0e4b1f",
   "metadata": {},
   "source": [
    "# Define Loss and Optimizer\n",
    "### Mean Squarred Error\n",
    "* See all loss functions: [PyTorch Loss Functions](https://pytorch.org/docs/stable/nn.html#loss-functions)\n",
    "\n",
    "#### Common Use: \n",
    "\n",
    "- `BCELoss()` for Binary Classification Scenarios and `CrossEntropyLoss()` for Multi-Label Classification Scenarios are used in most of the Text or Image Classification tutorials. \n",
    "\n",
    "- Do not forget the loss function is actually case-specific funtions. You can also create your custom loss functions."
   ]
  },
  {
   "cell_type": "code",
   "execution_count": 8,
   "id": "9d39cd3a-64c3-4b80-ba0d-6870cafa3973",
   "metadata": {},
   "outputs": [],
   "source": [
    "# In PyTorch, loss functions called are criterion \n",
    "# This is just a jargon, you can call it whatever you want\n",
    "criterion = torch.nn.MSELoss()"
   ]
  },
  {
   "cell_type": "markdown",
   "id": "eabf3920-d2d4-40ce-bc62-18fed1a5ef67",
   "metadata": {},
   "source": [
    "### Stochastic Gradient Descent Optimizer\n",
    "* **Also check out: Learning Rate Scheduling**\n",
    "* See all optimizers & schedulers: https://pytorch.org/docs/stable/optim.html"
   ]
  },
  {
   "cell_type": "code",
   "execution_count": 9,
   "id": "5b3d31c0-15f7-4a1d-ab1d-8e92e54c4fe2",
   "metadata": {},
   "outputs": [],
   "source": [
    "# Construct our loss function and an Optimizer. The call to model.parameters()\n",
    "# in the SGD constructor will contain the learnable parameters (defined \n",
    "# with torch.nn.Parameter) which are members of the model.\n",
    "optimizer = torch.optim.SGD(model.parameters(), lr=0.02) # 0.02 SGD, 0.001 Adam\n",
    "# optimizer = torch.optim.Adam(model.parameters(), lr=0.001) # 0.02 SGD, 0.001 Adam"
   ]
  },
  {
   "cell_type": "markdown",
   "id": "c26bedb0-5a32-4e49-8378-94518c7e3a7c",
   "metadata": {},
   "source": [
    "# Training Loop"
   ]
  },
  {
   "cell_type": "code",
   "execution_count": 10,
   "id": "e5a41000-064d-42bd-b665-7d951418e5ef",
   "metadata": {},
   "outputs": [
    {
     "name": "stdout",
     "output_type": "stream",
     "text": [
      "Epoch: 0 loss: 1934.3074\n",
      "Epoch: 1000 loss: 54.7718\n",
      "Epoch: 2000 loss: 54.7698\n",
      "Epoch: 3000 loss: 54.7690\n",
      "Epoch: 4000 loss: 54.7689\n",
      "Epoch: 5000 loss: 54.7683\n",
      "Epoch: 6000 loss: 54.7679\n",
      "Epoch: 7000 loss: 54.7667\n",
      "Epoch: 8000 loss: 54.7667\n",
      "Epoch: 9000 loss: 54.7663\n",
      "Epoch: 10000 loss: 54.7662\n",
      "Epoch: 11000 loss: 54.7659\n",
      "Epoch: 12000 loss: 54.7662\n",
      "Epoch: 13000 loss: 54.7662\n",
      "Epoch: 14000 loss: 54.7662\n",
      "Training took: 0:00:07.798642\n"
     ]
    }
   ],
   "source": [
    "num_epochs = 15_000\n",
    "\n",
    "start_time = datetime.now()\n",
    "\n",
    "for e in range(num_epochs):\n",
    "    # Forward pass: Compute predicted y by passing x to the model\n",
    "    y_pred = model(x)\n",
    "\n",
    "    # Compute and print loss\n",
    "    loss = criterion(y_pred, y)\n",
    "    if e % 1000 == 0:\n",
    "        print(f'Epoch: {e} loss: {loss.item():.4f}')\n",
    "\n",
    "    # Zero gradients, perform a backward pass, and update the weights.\n",
    "    # In PyTorch, gradients are accumulated, you need to reset gradients in each loop\n",
    "    optimizer.zero_grad()\n",
    "    # Compute gradients\n",
    "    loss.backward()\n",
    "    # Clip gradients\n",
    "    torch.nn.utils.clip_grad_norm_(model.parameters(), 10.0)\n",
    "    # Update gradients\n",
    "    optimizer.step()\n",
    "\n",
    "delta_time = datetime.now() - start_time\n",
    "#print(f'Training took: {delta_time.hour}:{delta_time.minute}:{delta_time.second}')\n",
    "print(f'Training took: {delta_time}')"
   ]
  },
  {
   "cell_type": "markdown",
   "id": "c079a960-5df9-447c-aee0-577216f2f4f9",
   "metadata": {},
   "source": [
    "# Results Comparsion"
   ]
  },
  {
   "cell_type": "code",
   "execution_count": 11,
   "id": "e9bdfd6e-e9b1-4732-8c7c-31fffdf1009b",
   "metadata": {},
   "outputs": [
    {
     "data": {
      "image/png": "[encoded data removed]",
      "text/plain": [
       "<Figure size 640x480 with 1 Axes>"
      ]
     },
     "metadata": {},
     "output_type": "display_data"
    }
   ],
   "source": [
    "plt.plot(y, label='original')\n",
    "plt.plot(model(x).detach().numpy(), label='predicted')\n",
    "plt.title(model.string())\n",
    "plt.legend()\n",
    "plt.grid()"
   ]
  },
  {
   "cell_type": "markdown",
   "id": "ec1adbe7-e714-472f-9a06-aa53f2171f15",
   "metadata": {},
   "source": [
    "# Backprop Visualization\n",
    "### NOTE: You need to install graphviz to your computer!"
   ]
  },
  {
   "cell_type": "markdown",
   "id": "330e3d1f-a462-436e-85c9-3f9d974e50ac",
   "metadata": {},
   "source": [
    "### with Hiddenlayer"
   ]
  },
  {
   "cell_type": "code",
   "execution_count": null,
   "id": "b65261ed",
   "metadata": {},
   "outputs": [],
   "source": [
    "hl.build_graph(model, torch.zeros_like(y).unsqueeze(0))"
   ]
  },
  {
   "cell_type": "markdown",
   "id": "aba00540-a42e-4dc3-b866-4fafed5fd22c",
   "metadata": {},
   "source": [
    "### with Torchviz"
   ]
  },
  {
   "cell_type": "code",
   "execution_count": 12,
   "id": "d1c7bc4e-9077-4b72-8995-85f47d57a2a8",
   "metadata": {},
   "outputs": [
    {
     "data": {
      "image/svg+xml": [
       "<?xml version=\"1.0\" encoding=\"UTF-8\" standalone=\"no\"?>\n",
       "<!DOCTYPE svg PUBLIC \"-//W3C//DTD SVG 1.1//EN\"\n",
       " \"http://www.w3.org/Graphics/SVG/1.1/DTD/svg11.dtd\">\n",
       "<!-- Generated by graphviz version 2.50.0 (0)\n",
       " -->\n",
       "<!-- Pages: 1 -->\n",
       "<svg width=\"335pt\" height=\"391pt\"\n",
       " viewBox=\"0.00 0.00 335.00 391.00\" xmlns=\"http://www.w3.org/2000/svg\" xmlns:xlink=\"http://www.w3.org/1999/xlink\">\n",
       "<g id=\"graph0\" class=\"graph\" transform=\"scale(1 1) rotate(0) translate(4 387)\">\n",
       "<polygon fill=\"white\" stroke=\"transparent\" points=\"-4,4 -4,-387 331,-387 331,4 -4,4\"/>\n",
       "<!-- 2911757752976 -->\n",
       "<g id=\"node1\" class=\"node\">\n",
       "<title>2911757752976</title>\n",
       "<polygon fill=\"#caff70\" stroke=\"black\" points=\"243.5,-31 189.5,-31 189.5,0 243.5,0 243.5,-31\"/>\n",
       "<text text-anchor=\"middle\" x=\"216.5\" y=\"-7\" font-family=\"monospace\" font-size=\"10.00\"> ()</text>\n",
       "</g>\n",
       "<!-- 2911742821424 -->\n",
       "<g id=\"node2\" class=\"node\">\n",
       "<title>2911742821424</title>\n",
       "<polygon fill=\"lightgrey\" stroke=\"black\" points=\"264,-86 169,-86 169,-67 264,-67 264,-86\"/>\n",
       "<text text-anchor=\"middle\" x=\"216.5\" y=\"-74\" font-family=\"monospace\" font-size=\"10.00\">MeanBackward0</text>\n",
       "</g>\n",
       "<!-- 2911742821424&#45;&gt;2911757752976 -->\n",
       "<g id=\"edge11\" class=\"edge\">\n",
       "<title>2911742821424&#45;&gt;2911757752976</title>\n",
       "<path fill=\"none\" stroke=\"black\" d=\"M216.5,-66.79C216.5,-60.07 216.5,-50.4 216.5,-41.34\"/>\n",
       "<polygon fill=\"black\" stroke=\"black\" points=\"220,-41.19 216.5,-31.19 213,-41.19 220,-41.19\"/>\n",
       "</g>\n",
       "<!-- 2911737429824 -->\n",
       "<g id=\"node3\" class=\"node\">\n",
       "<title>2911737429824</title>\n",
       "<polygon fill=\"lightgrey\" stroke=\"black\" points=\"261,-141 172,-141 172,-122 261,-122 261,-141\"/>\n",
       "<text text-anchor=\"middle\" x=\"216.5\" y=\"-129\" font-family=\"monospace\" font-size=\"10.00\">AddBackward0</text>\n",
       "</g>\n",
       "<!-- 2911737429824&#45;&gt;2911742821424 -->\n",
       "<g id=\"edge1\" class=\"edge\">\n",
       "<title>2911737429824&#45;&gt;2911742821424</title>\n",
       "<path fill=\"none\" stroke=\"black\" d=\"M216.5,-121.75C216.5,-114.8 216.5,-104.85 216.5,-96.13\"/>\n",
       "<polygon fill=\"black\" stroke=\"black\" points=\"220,-96.09 216.5,-86.09 213,-96.09 220,-96.09\"/>\n",
       "</g>\n",
       "<!-- 2911775525520 -->\n",
       "<g id=\"node4\" class=\"node\">\n",
       "<title>2911775525520</title>\n",
       "<polygon fill=\"lightgrey\" stroke=\"black\" points=\"208,-196 119,-196 119,-177 208,-177 208,-196\"/>\n",
       "<text text-anchor=\"middle\" x=\"163.5\" y=\"-184\" font-family=\"monospace\" font-size=\"10.00\">AddBackward0</text>\n",
       "</g>\n",
       "<!-- 2911775525520&#45;&gt;2911737429824 -->\n",
       "<g id=\"edge2\" class=\"edge\">\n",
       "<title>2911775525520&#45;&gt;2911737429824</title>\n",
       "<path fill=\"none\" stroke=\"black\" d=\"M172.25,-176.75C179.97,-169.03 191.4,-157.6 200.72,-148.28\"/>\n",
       "<polygon fill=\"black\" stroke=\"black\" points=\"203.31,-150.64 207.91,-141.09 198.36,-145.69 203.31,-150.64\"/>\n",
       "</g>\n",
       "<!-- 2911776391072 -->\n",
       "<g id=\"node5\" class=\"node\">\n",
       "<title>2911776391072</title>\n",
       "<polygon fill=\"lightgrey\" stroke=\"black\" points=\"101,-251 0,-251 0,-232 101,-232 101,-251\"/>\n",
       "<text text-anchor=\"middle\" x=\"50.5\" y=\"-239\" font-family=\"monospace\" font-size=\"10.00\">AccumulateGrad</text>\n",
       "</g>\n",
       "<!-- 2911776391072&#45;&gt;2911775525520 -->\n",
       "<g id=\"edge3\" class=\"edge\">\n",
       "<title>2911776391072&#45;&gt;2911775525520</title>\n",
       "<path fill=\"none\" stroke=\"black\" d=\"M68.66,-231.98C86.75,-223.5 114.78,-210.35 135.69,-200.54\"/>\n",
       "<polygon fill=\"black\" stroke=\"black\" points=\"137.45,-203.59 145.01,-196.17 134.47,-197.25 137.45,-203.59\"/>\n",
       "</g>\n",
       "<!-- 2911700513440 -->\n",
       "<g id=\"node6\" class=\"node\">\n",
       "<title>2911700513440</title>\n",
       "<polygon fill=\"lightblue\" stroke=\"black\" points=\"77.5,-317 23.5,-317 23.5,-287 77.5,-287 77.5,-317\"/>\n",
       "<text text-anchor=\"middle\" x=\"50.5\" y=\"-305\" font-family=\"monospace\" font-size=\"10.00\">w0</text>\n",
       "<text text-anchor=\"middle\" x=\"50.5\" y=\"-294\" font-family=\"monospace\" font-size=\"10.00\"> (1)</text>\n",
       "</g>\n",
       "<!-- 2911700513440&#45;&gt;2911776391072 -->\n",
       "<g id=\"edge4\" class=\"edge\">\n",
       "<title>2911700513440&#45;&gt;2911776391072</title>\n",
       "<path fill=\"none\" stroke=\"black\" d=\"M50.5,-286.84C50.5,-279.21 50.5,-269.7 50.5,-261.45\"/>\n",
       "<polygon fill=\"black\" stroke=\"black\" points=\"54,-261.27 50.5,-251.27 47,-261.27 54,-261.27\"/>\n",
       "</g>\n",
       "<!-- 2911776381520 -->\n",
       "<g id=\"node7\" class=\"node\">\n",
       "<title>2911776381520</title>\n",
       "<polygon fill=\"lightgrey\" stroke=\"black\" points=\"208,-251 119,-251 119,-232 208,-232 208,-251\"/>\n",
       "<text text-anchor=\"middle\" x=\"163.5\" y=\"-239\" font-family=\"monospace\" font-size=\"10.00\">MulBackward0</text>\n",
       "</g>\n",
       "<!-- 2911776381520&#45;&gt;2911775525520 -->\n",
       "<g id=\"edge5\" class=\"edge\">\n",
       "<title>2911776381520&#45;&gt;2911775525520</title>\n",
       "<path fill=\"none\" stroke=\"black\" d=\"M163.5,-231.75C163.5,-224.8 163.5,-214.85 163.5,-206.13\"/>\n",
       "<polygon fill=\"black\" stroke=\"black\" points=\"167,-206.09 163.5,-196.09 160,-206.09 167,-206.09\"/>\n",
       "</g>\n",
       "<!-- 2911776628960 -->\n",
       "<g id=\"node8\" class=\"node\">\n",
       "<title>2911776628960</title>\n",
       "<polygon fill=\"lightgrey\" stroke=\"black\" points=\"214,-311.5 113,-311.5 113,-292.5 214,-292.5 214,-311.5\"/>\n",
       "<text text-anchor=\"middle\" x=\"163.5\" y=\"-299.5\" font-family=\"monospace\" font-size=\"10.00\">AccumulateGrad</text>\n",
       "</g>\n",
       "<!-- 2911776628960&#45;&gt;2911776381520 -->\n",
       "<g id=\"edge6\" class=\"edge\">\n",
       "<title>2911776628960&#45;&gt;2911776381520</title>\n",
       "<path fill=\"none\" stroke=\"black\" d=\"M163.5,-292.37C163.5,-284.25 163.5,-271.81 163.5,-261.39\"/>\n",
       "<polygon fill=\"black\" stroke=\"black\" points=\"167,-261.17 163.5,-251.17 160,-261.17 167,-261.17\"/>\n",
       "</g>\n",
       "<!-- 2911700513760 -->\n",
       "<g id=\"node9\" class=\"node\">\n",
       "<title>2911700513760</title>\n",
       "<polygon fill=\"lightblue\" stroke=\"black\" points=\"190.5,-383 136.5,-383 136.5,-353 190.5,-353 190.5,-383\"/>\n",
       "<text text-anchor=\"middle\" x=\"163.5\" y=\"-371\" font-family=\"monospace\" font-size=\"10.00\">w1</text>\n",
       "<text text-anchor=\"middle\" x=\"163.5\" y=\"-360\" font-family=\"monospace\" font-size=\"10.00\"> (1)</text>\n",
       "</g>\n",
       "<!-- 2911700513760&#45;&gt;2911776628960 -->\n",
       "<g id=\"edge7\" class=\"edge\">\n",
       "<title>2911700513760&#45;&gt;2911776628960</title>\n",
       "<path fill=\"none\" stroke=\"black\" d=\"M163.5,-352.8C163.5,-343.7 163.5,-331.79 163.5,-321.9\"/>\n",
       "<polygon fill=\"black\" stroke=\"black\" points=\"167,-321.84 163.5,-311.84 160,-321.84 167,-321.84\"/>\n",
       "</g>\n",
       "<!-- 2911775523936 -->\n",
       "<g id=\"node10\" class=\"node\">\n",
       "<title>2911775523936</title>\n",
       "<polygon fill=\"lightgrey\" stroke=\"black\" points=\"318,-196 229,-196 229,-177 318,-177 318,-196\"/>\n",
       "<text text-anchor=\"middle\" x=\"273.5\" y=\"-184\" font-family=\"monospace\" font-size=\"10.00\">MulBackward0</text>\n",
       "</g>\n",
       "<!-- 2911775523936&#45;&gt;2911737429824 -->\n",
       "<g id=\"edge8\" class=\"edge\">\n",
       "<title>2911775523936&#45;&gt;2911737429824</title>\n",
       "<path fill=\"none\" stroke=\"black\" d=\"M264.34,-176.98C256,-169.23 243.47,-157.58 233.32,-148.14\"/>\n",
       "<polygon fill=\"black\" stroke=\"black\" points=\"235.53,-145.42 225.82,-141.17 230.76,-150.54 235.53,-145.42\"/>\n",
       "</g>\n",
       "<!-- 2911776626800 -->\n",
       "<g id=\"node11\" class=\"node\">\n",
       "<title>2911776626800</title>\n",
       "<polygon fill=\"lightgrey\" stroke=\"black\" points=\"327,-251 226,-251 226,-232 327,-232 327,-251\"/>\n",
       "<text text-anchor=\"middle\" x=\"276.5\" y=\"-239\" font-family=\"monospace\" font-size=\"10.00\">AccumulateGrad</text>\n",
       "</g>\n",
       "<!-- 2911776626800&#45;&gt;2911775523936 -->\n",
       "<g id=\"edge9\" class=\"edge\">\n",
       "<title>2911776626800&#45;&gt;2911775523936</title>\n",
       "<path fill=\"none\" stroke=\"black\" d=\"M276,-231.75C275.61,-224.8 275.05,-214.85 274.55,-206.13\"/>\n",
       "<polygon fill=\"black\" stroke=\"black\" points=\"278.05,-205.88 273.99,-196.09 271.06,-206.27 278.05,-205.88\"/>\n",
       "</g>\n",
       "<!-- 2911700513840 -->\n",
       "<g id=\"node12\" class=\"node\">\n",
       "<title>2911700513840</title>\n",
       "<polygon fill=\"lightblue\" stroke=\"black\" points=\"303.5,-317 249.5,-317 249.5,-287 303.5,-287 303.5,-317\"/>\n",
       "<text text-anchor=\"middle\" x=\"276.5\" y=\"-305\" font-family=\"monospace\" font-size=\"10.00\">w2</text>\n",
       "<text text-anchor=\"middle\" x=\"276.5\" y=\"-294\" font-family=\"monospace\" font-size=\"10.00\"> (1)</text>\n",
       "</g>\n",
       "<!-- 2911700513840&#45;&gt;2911776626800 -->\n",
       "<g id=\"edge10\" class=\"edge\">\n",
       "<title>2911700513840&#45;&gt;2911776626800</title>\n",
       "<path fill=\"none\" stroke=\"black\" d=\"M276.5,-286.84C276.5,-279.21 276.5,-269.7 276.5,-261.45\"/>\n",
       "<polygon fill=\"black\" stroke=\"black\" points=\"280,-261.27 276.5,-251.27 273,-261.27 280,-261.27\"/>\n",
       "</g>\n",
       "</g>\n",
       "</svg>\n"
      ],
      "text/plain": [
       "<graphviz.graphs.Digraph at 0x2a5e397d580>"
      ]
     },
     "execution_count": 12,
     "metadata": {},
     "output_type": "execute_result"
    }
   ],
   "source": [
    "make_dot(model(y).mean(), params=dict(list(model.named_parameters())))\n",
    "#make_dot(model(y).mean(), params=dict(model.named_parameters()), show_attrs=True, show_saved=True)"
   ]
  }
 ],
 "metadata": {
  "kernelspec": {
   "display_name": "base",
   "language": "python",
   "name": "python3"
  },
  "language_info": {
   "codemirror_mode": {
    "name": "ipython",
    "version": 3
   },
   "file_extension": ".py",
   "mimetype": "text/x-python",
   "name": "python",
   "nbconvert_exporter": "python",
   "pygments_lexer": "ipython3",
   "version": "3.12.7"
  }
 },
 "nbformat": 4,
 "nbformat_minor": 5
}
