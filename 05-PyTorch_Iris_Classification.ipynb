{
 "cells": [
  {
   "cell_type": "markdown",
   "id": "905785a9-7635-4e18-8a38-eccb5f5ea91f",
   "metadata": {},
   "source": [
    "# Iris Classification in PyTorch "
   ]
  },
  {
   "cell_type": "code",
   "execution_count": 1,
   "id": "baecb5ab-1ce8-4328-8d04-d3835bc166db",
   "metadata": {},
   "outputs": [],
   "source": [
    "import torch\n",
    "import torch.nn as nn\n",
    "import torch.optim as optim\n",
    "\n",
    "from sklearn.model_selection import train_test_split\n",
    "from sklearn.preprocessing import StandardScaler\n",
    "\n",
    "import pandas as pd"
   ]
  },
  {
   "cell_type": "markdown",
   "id": "c6bd1db5-5e2b-4345-b888-b79f9d2ac511",
   "metadata": {},
   "source": [
    "# Load the Iris dataset as Pandas Dataframe\n",
    "* Dataframe is a tabular dataset"
   ]
  },
  {
   "cell_type": "code",
   "execution_count": 2,
   "id": "4a9e0e6b-34b1-47cd-8522-abba557ca30d",
   "metadata": {},
   "outputs": [
    {
     "data": {
      "text/html": [
       "<div>\n",
       "<style scoped>\n",
       "    .dataframe tbody tr th:only-of-type {\n",
       "        vertical-align: middle;\n",
       "    }\n",
       "\n",
       "    .dataframe tbody tr th {\n",
       "        vertical-align: top;\n",
       "    }\n",
       "\n",
       "    .dataframe thead th {\n",
       "        text-align: right;\n",
       "    }\n",
       "</style>\n",
       "<table border=\"1\" class=\"dataframe\">\n",
       "  <thead>\n",
       "    <tr style=\"text-align: right;\">\n",
       "      <th></th>\n",
       "      <th>sepal_length</th>\n",
       "      <th>sepal_width</th>\n",
       "      <th>petal_length</th>\n",
       "      <th>petal_width</th>\n",
       "      <th>class</th>\n",
       "    </tr>\n",
       "  </thead>\n",
       "  <tbody>\n",
       "    <tr>\n",
       "      <th>0</th>\n",
       "      <td>5.1</td>\n",
       "      <td>3.5</td>\n",
       "      <td>1.4</td>\n",
       "      <td>0.2</td>\n",
       "      <td>Iris-setosa</td>\n",
       "    </tr>\n",
       "    <tr>\n",
       "      <th>1</th>\n",
       "      <td>4.9</td>\n",
       "      <td>3.0</td>\n",
       "      <td>1.4</td>\n",
       "      <td>0.2</td>\n",
       "      <td>Iris-setosa</td>\n",
       "    </tr>\n",
       "    <tr>\n",
       "      <th>2</th>\n",
       "      <td>4.7</td>\n",
       "      <td>3.2</td>\n",
       "      <td>1.3</td>\n",
       "      <td>0.2</td>\n",
       "      <td>Iris-setosa</td>\n",
       "    </tr>\n",
       "    <tr>\n",
       "      <th>3</th>\n",
       "      <td>4.6</td>\n",
       "      <td>3.1</td>\n",
       "      <td>1.5</td>\n",
       "      <td>0.2</td>\n",
       "      <td>Iris-setosa</td>\n",
       "    </tr>\n",
       "    <tr>\n",
       "      <th>4</th>\n",
       "      <td>5.0</td>\n",
       "      <td>3.6</td>\n",
       "      <td>1.4</td>\n",
       "      <td>0.2</td>\n",
       "      <td>Iris-setosa</td>\n",
       "    </tr>\n",
       "  </tbody>\n",
       "</table>\n",
       "</div>"
      ],
      "text/plain": [
       "   sepal_length  sepal_width  petal_length  petal_width        class\n",
       "0           5.1          3.5           1.4          0.2  Iris-setosa\n",
       "1           4.9          3.0           1.4          0.2  Iris-setosa\n",
       "2           4.7          3.2           1.3          0.2  Iris-setosa\n",
       "3           4.6          3.1           1.5          0.2  Iris-setosa\n",
       "4           5.0          3.6           1.4          0.2  Iris-setosa"
      ]
     },
     "execution_count": 2,
     "metadata": {},
     "output_type": "execute_result"
    }
   ],
   "source": [
    "url = 'https://archive.ics.uci.edu/ml/machine-learning-databases/iris/iris.data'\n",
    "columns = ['sepal_length', 'sepal_width', 'petal_length', 'petal_width', 'class']\n",
    "\n",
    "iris_data = pd.read_csv(url, header=None, names=columns)\n",
    "iris_data.head()"
   ]
  },
  {
   "cell_type": "markdown",
   "id": "952281c3-1062-476b-860d-cd930260f8e8",
   "metadata": {},
   "source": [
    "# Map class labels to numerical values"
   ]
  },
  {
   "cell_type": "code",
   "execution_count": 3,
   "id": "c3019112-48d8-4e06-bbcc-d3f53b4cd40b",
   "metadata": {},
   "outputs": [],
   "source": [
    "class_mapping = {\n",
    "    'Iris-setosa': 0, \n",
    "    'Iris-versicolor': 1, \n",
    "    'Iris-virginica': 2\n",
    "}\n",
    "\n",
    "iris_data['class'] = iris_data['class'].map(class_mapping)"
   ]
  },
  {
   "cell_type": "code",
   "execution_count": 4,
   "id": "889f911b-9960-4bf1-91ff-cc2b9fa0cf63",
   "metadata": {},
   "outputs": [
    {
     "data": {
      "text/html": [
       "<div>\n",
       "<style scoped>\n",
       "    .dataframe tbody tr th:only-of-type {\n",
       "        vertical-align: middle;\n",
       "    }\n",
       "\n",
       "    .dataframe tbody tr th {\n",
       "        vertical-align: top;\n",
       "    }\n",
       "\n",
       "    .dataframe thead th {\n",
       "        text-align: right;\n",
       "    }\n",
       "</style>\n",
       "<table border=\"1\" class=\"dataframe\">\n",
       "  <thead>\n",
       "    <tr style=\"text-align: right;\">\n",
       "      <th></th>\n",
       "      <th>sepal_length</th>\n",
       "      <th>sepal_width</th>\n",
       "      <th>petal_length</th>\n",
       "      <th>petal_width</th>\n",
       "      <th>class</th>\n",
       "    </tr>\n",
       "  </thead>\n",
       "  <tbody>\n",
       "    <tr>\n",
       "      <th>0</th>\n",
       "      <td>5.1</td>\n",
       "      <td>3.5</td>\n",
       "      <td>1.4</td>\n",
       "      <td>0.2</td>\n",
       "      <td>0</td>\n",
       "    </tr>\n",
       "    <tr>\n",
       "      <th>1</th>\n",
       "      <td>4.9</td>\n",
       "      <td>3.0</td>\n",
       "      <td>1.4</td>\n",
       "      <td>0.2</td>\n",
       "      <td>0</td>\n",
       "    </tr>\n",
       "    <tr>\n",
       "      <th>2</th>\n",
       "      <td>4.7</td>\n",
       "      <td>3.2</td>\n",
       "      <td>1.3</td>\n",
       "      <td>0.2</td>\n",
       "      <td>0</td>\n",
       "    </tr>\n",
       "    <tr>\n",
       "      <th>3</th>\n",
       "      <td>4.6</td>\n",
       "      <td>3.1</td>\n",
       "      <td>1.5</td>\n",
       "      <td>0.2</td>\n",
       "      <td>0</td>\n",
       "    </tr>\n",
       "    <tr>\n",
       "      <th>4</th>\n",
       "      <td>5.0</td>\n",
       "      <td>3.6</td>\n",
       "      <td>1.4</td>\n",
       "      <td>0.2</td>\n",
       "      <td>0</td>\n",
       "    </tr>\n",
       "  </tbody>\n",
       "</table>\n",
       "</div>"
      ],
      "text/plain": [
       "   sepal_length  sepal_width  petal_length  petal_width  class\n",
       "0           5.1          3.5           1.4          0.2      0\n",
       "1           4.9          3.0           1.4          0.2      0\n",
       "2           4.7          3.2           1.3          0.2      0\n",
       "3           4.6          3.1           1.5          0.2      0\n",
       "4           5.0          3.6           1.4          0.2      0"
      ]
     },
     "execution_count": 4,
     "metadata": {},
     "output_type": "execute_result"
    }
   ],
   "source": [
    "iris_data.head()"
   ]
  },
  {
   "cell_type": "markdown",
   "id": "07986cfb-339a-41c0-9dac-31decd9c67c0",
   "metadata": {},
   "source": [
    "# Split the data into features and labels"
   ]
  },
  {
   "cell_type": "code",
   "execution_count": 5,
   "id": "07abe4e9-470c-44d5-b523-906fdd305701",
   "metadata": {},
   "outputs": [],
   "source": [
    "# features\n",
    "X = iris_data.drop('class', axis=1).values\n",
    "# labels\n",
    "y = iris_data['class'].values"
   ]
  },
  {
   "cell_type": "markdown",
   "id": "6c1d8d06-4532-4aa2-a8b0-c31b06bb9d4e",
   "metadata": {},
   "source": [
    "# Train/Test Split"
   ]
  },
  {
   "cell_type": "code",
   "execution_count": 6,
   "id": "3a9d6ba3-9404-4b1a-8dff-535a1144732d",
   "metadata": {},
   "outputs": [],
   "source": [
    "# Numpy arrays here!\n",
    "X_train, X_test, y_train, y_test = train_test_split(X, y, test_size=0.2, random_state=42)"
   ]
  },
  {
   "cell_type": "markdown",
   "id": "c78331a1-4d35-423a-b08e-ee96c1f0f674",
   "metadata": {},
   "source": [
    "# Feature Scaling\n",
    "* Standart scaler -> zero mean, unit variance"
   ]
  },
  {
   "cell_type": "code",
   "execution_count": 7,
   "id": "4ada44ee-c8f3-4e9a-8c7b-042838616dab",
   "metadata": {},
   "outputs": [],
   "source": [
    "scaler = StandardScaler()\n",
    "\n",
    "X_train = scaler.fit_transform(X_train)\n",
    "X_test = scaler.transform(X_test)"
   ]
  },
  {
   "cell_type": "code",
   "execution_count": 8,
   "id": "b39fe896-ae13-407c-bc60-328954bbda1b",
   "metadata": {},
   "outputs": [
    {
     "name": "stdout",
     "output_type": "stream",
     "text": [
      "7.401486830834377e-18 0.9999999999999997\n",
      "0.09149145344393068 0.996861259412538\n"
     ]
    }
   ],
   "source": [
    "print(X_train.mean(), X_train.var())\n",
    "print(X_test.mean(), X_test.var())"
   ]
  },
  {
   "cell_type": "markdown",
   "id": "da744605-40a0-46a4-adf9-426ae13ae4fa",
   "metadata": {},
   "source": [
    "# Create Custom Dataset"
   ]
  },
  {
   "cell_type": "code",
   "execution_count": 9,
   "id": "561d9711-5104-4bb9-a473-408aa146cad4",
   "metadata": {},
   "outputs": [],
   "source": [
    "class IrisDataset(torch.utils.data.Dataset):\n",
    "    def __init__(self, features, labels):\n",
    "\n",
    "        # CREATE TENSORS\n",
    "        self.features = torch.tensor(features, dtype=torch.float32)\n",
    "        # long means 64 bit integer\n",
    "        self.labels = torch.tensor(labels, dtype=torch.long)\n",
    "        \n",
    "    def __len__(self):\n",
    "        return len(self.features)\n",
    "\n",
    "    def __getitem__(self, idx):\n",
    "        features = self.features[idx]\n",
    "        labels = self.labels[idx]\n",
    "        return features, labels"
   ]
  },
  {
   "cell_type": "code",
   "execution_count": 10,
   "id": "e28ee929-ec82-41d7-a26d-0f2556a8a165",
   "metadata": {},
   "outputs": [],
   "source": [
    "train_dataset = IrisDataset(\n",
    "    features=X_train, \n",
    "    labels=y_train\n",
    ")\n",
    "\n",
    "test_dataset = IrisDataset(\n",
    "    features=X_test, \n",
    "    labels=y_test\n",
    ")"
   ]
  },
  {
   "cell_type": "code",
   "execution_count": 11,
   "id": "b3876b7c-94fd-4f3f-b3a3-f5f57709a339",
   "metadata": {},
   "outputs": [
    {
     "data": {
      "text/plain": [
       "(tensor([-1.4739,  1.2204, -1.5640, -1.3095]), tensor(0))"
      ]
     },
     "execution_count": 11,
     "metadata": {},
     "output_type": "execute_result"
    }
   ],
   "source": [
    "sample_data = train_dataset[0]\n",
    "sample_data"
   ]
  },
  {
   "cell_type": "code",
   "execution_count": 12,
   "id": "c6980d7d-db3e-48ab-be3e-03eab5e8215b",
   "metadata": {},
   "outputs": [
    {
     "name": "stdout",
     "output_type": "stream",
     "text": [
      "tensor([-1.4739,  1.2204, -1.5640, -1.3095])\n",
      "torch.Size([4])\n"
     ]
    }
   ],
   "source": [
    "# features\n",
    "print(sample_data[0])\n",
    "print(sample_data[0].shape)"
   ]
  },
  {
   "cell_type": "code",
   "execution_count": 13,
   "id": "de1e81f3-b1b5-4cd5-825e-e05f7a83433f",
   "metadata": {},
   "outputs": [
    {
     "name": "stdout",
     "output_type": "stream",
     "text": [
      "tensor(0)\n",
      "torch.Size([])\n"
     ]
    }
   ],
   "source": [
    "# labels\n",
    "print(sample_data[1])\n",
    "print(sample_data[1].shape)"
   ]
  },
  {
   "cell_type": "markdown",
   "id": "14132241-4501-421a-bc9f-913b805cd746",
   "metadata": {},
   "source": [
    "# Make Batches of Data"
   ]
  },
  {
   "cell_type": "code",
   "execution_count": 14,
   "id": "763cf70a-14ef-4ff6-941b-3177af8ce59a",
   "metadata": {},
   "outputs": [],
   "source": [
    "batch_size = 32\n",
    "\n",
    "train_dataloader = torch.utils.data.DataLoader(\n",
    "    train_dataset,\n",
    "    batch_size=batch_size\n",
    ")\n",
    "\n",
    "test_dataloader = torch.utils.data.DataLoader(\n",
    "    test_dataset,\n",
    "    batch_size=batch_size\n",
    ")"
   ]
  },
  {
   "cell_type": "code",
   "execution_count": 15,
   "id": "5c1ca782-7df7-4237-9851-20822188e8b8",
   "metadata": {},
   "outputs": [],
   "source": [
    "sample_batch = next(iter(train_dataloader))"
   ]
  },
  {
   "cell_type": "code",
   "execution_count": 16,
   "id": "288822c9-688b-4362-a7f4-6ebc1b722c9f",
   "metadata": {},
   "outputs": [
    {
     "name": "stdout",
     "output_type": "stream",
     "text": [
      "torch.Size([32, 4])\n",
      "torch.Size([32])\n"
     ]
    }
   ],
   "source": [
    "# features\n",
    "print(sample_batch[0].shape)\n",
    "\n",
    "# labels\n",
    "print(sample_batch[1].shape)"
   ]
  },
  {
   "cell_type": "markdown",
   "id": "3687cd27-91c3-4853-8736-e7245ae49093",
   "metadata": {},
   "source": [
    "# Define the MLP Model"
   ]
  },
  {
   "cell_type": "code",
   "execution_count": 17,
   "id": "8316f2f0-fd00-4dc3-855b-f7ad5e480f92",
   "metadata": {},
   "outputs": [],
   "source": [
    "class IrisMLP(nn.Module):\n",
    "    def __init__(self, input_size, hidden_size, num_classes):\n",
    "        super().__init__()\n",
    "        \n",
    "        self.fc1 = nn.Linear(input_size, hidden_size)\n",
    "        self.relu = nn.ReLU()\n",
    "        self.fc2 = nn.Linear(hidden_size, num_classes)\n",
    "\n",
    "    def forward(self, x):\n",
    "        out = self.fc1(x)\n",
    "        out = self.relu(out)\n",
    "        out = self.fc2(out)\n",
    "        return out"
   ]
  },
  {
   "cell_type": "markdown",
   "id": "3c07c27b-cbf6-4088-830a-8ff992053cb3",
   "metadata": {},
   "source": [
    "# Set hyperparameters"
   ]
  },
  {
   "cell_type": "code",
   "execution_count": 18,
   "id": "730e3f5b-07d1-4a14-84a2-1bcbea99f33e",
   "metadata": {},
   "outputs": [],
   "source": [
    "input_size = 4  # Number of features\n",
    "hidden_size = 8\n",
    "num_classes = 3 # iris dataset has 3 \n",
    "learning_rate = 0.01\n",
    "num_epochs = 100"
   ]
  },
  {
   "cell_type": "markdown",
   "id": "932aa709-f9f3-4e13-acfd-857902cbd807",
   "metadata": {},
   "source": [
    "# Initialize the model"
   ]
  },
  {
   "cell_type": "code",
   "execution_count": 19,
   "id": "8a057688-3ab3-4d30-af54-abc3c71e35f3",
   "metadata": {},
   "outputs": [],
   "source": [
    "model = IrisMLP(input_size, hidden_size, num_classes)"
   ]
  },
  {
   "cell_type": "markdown",
   "id": "80604c6a-631e-498f-8551-2608cad9f5bb",
   "metadata": {},
   "source": [
    "# Loss & Optimizer"
   ]
  },
  {
   "cell_type": "code",
   "execution_count": 20,
   "id": "d2f6eb60-d1e1-4469-b9be-e6a1400f94eb",
   "metadata": {},
   "outputs": [],
   "source": [
    "criterion = nn.CrossEntropyLoss()\n",
    "optimizer = optim.SGD(model.parameters(), lr=learning_rate)"
   ]
  },
  {
   "cell_type": "markdown",
   "id": "7a4fcbc9-0b08-4101-b575-0db047688f42",
   "metadata": {},
   "source": [
    "# Training the model"
   ]
  },
  {
   "cell_type": "markdown",
   "id": "e7d459b0-216d-442d-a9b3-863900c6bc6e",
   "metadata": {},
   "source": [
    "### Training iteration function that loops over all the batches"
   ]
  },
  {
   "cell_type": "code",
   "execution_count": 21,
   "id": "8c756c6a-3ff1-4f6b-a1db-435bc07babaa",
   "metadata": {},
   "outputs": [],
   "source": [
    "def train_iter(model, dataloader, criterion, optimizer):\n",
    "    model.train()\n",
    "\n",
    "    loss_history = []\n",
    "\n",
    "    for features_batch, labels_batch in dataloader:\n",
    "        # Forward pass\n",
    "        preds = model(features_batch)\n",
    "        # Compute error\n",
    "        loss = criterion(preds, labels_batch)\n",
    "    \n",
    "        # Clear previously computed gradients\n",
    "        optimizer.zero_grad()\n",
    "        # Compute gradients\n",
    "        loss.backward()\n",
    "        # Update parameters (weights and biases)\n",
    "        optimizer.step()\n",
    "\n",
    "        loss_history.append(loss.item())\n",
    "\n",
    "    avg_loss = sum(loss_history)/len(loss_history)\n",
    "    return avg_loss"
   ]
  },
  {
   "cell_type": "markdown",
   "id": "268d4ba5-c158-4553-9caf-a02b8df5d757",
   "metadata": {},
   "source": [
    "### Evaluation (testing) iteration function that loops over all the batches"
   ]
  },
  {
   "cell_type": "code",
   "execution_count": 22,
   "id": "eb55d011-8370-4878-80bd-6fd18624a575",
   "metadata": {},
   "outputs": [],
   "source": [
    "# DISABLE GRADIENT COMPUTATION\n",
    "# NOT REQUIRED FOR TESTING \n",
    "# WE ARE NOT GOING TO TRAING THE MODEL IN THIS FUNCTION\n",
    "@torch.no_grad()\n",
    "def test_iter(model, dataloader, criterion):\n",
    "    model.eval()\n",
    "\n",
    "    loss_history = []\n",
    "    acc_history = []\n",
    "\n",
    "    for features_batch, labels_batch in dataloader:\n",
    "        # Forward pass\n",
    "        preds = model(features_batch)\n",
    "        \n",
    "        # Compute error\n",
    "        loss = criterion(preds, labels_batch)\n",
    "        # Compute accuracy\n",
    "        _, predicted = torch.max(preds, 1)\n",
    "        accuracy = (predicted == labels_batch).sum().item() / labels_batch.size(0)\n",
    "    \n",
    "        loss_history.append(loss.item())\n",
    "        acc_history.append(accuracy)\n",
    "\n",
    "    avg_loss = sum(loss_history)/len(loss_history)\n",
    "    avg_acc = sum(acc_history)/len(acc_history)\n",
    "    return avg_loss, avg_acc"
   ]
  },
  {
   "cell_type": "markdown",
   "id": "74825c71-f45e-460e-8ed6-f382fa8209cb",
   "metadata": {},
   "source": [
    "### Start training"
   ]
  },
  {
   "cell_type": "code",
   "execution_count": 23,
   "id": "8e1e06bb-5fe9-4426-8a29-dc1e08173614",
   "metadata": {},
   "outputs": [],
   "source": [
    "def start_training(model, train_dataloader, test_dataloader, optimizer, criterion, num_epochs, print_interval):\n",
    "    \n",
    "    # Loop over all epochs\n",
    "    for epoch in range(1, num_epochs+1):\n",
    "        avg_train_loss = train_iter(model, train_dataloader, criterion, optimizer)\n",
    "        avg_test_loss, avg_test_acc = test_iter(model, test_dataloader, criterion)\n",
    "\n",
    "        if (epoch + 1) % print_interval == 0:\n",
    "            print(f'Epoch: [{epoch+1}/{num_epochs}], Avg train loss: {avg_train_loss:.4f}, test loss: {avg_test_loss:.4f}, test_acc: {avg_test_acc*100.0:.2f}%')"
   ]
  },
  {
   "cell_type": "code",
   "execution_count": 24,
   "id": "a87f5932-f664-436d-b798-73cb8f858e9b",
   "metadata": {},
   "outputs": [
    {
     "name": "stdout",
     "output_type": "stream",
     "text": [
      "Epoch: [20/250], Avg train loss: 0.8737, test loss: 0.8588, test_acc: 63.33%\n",
      "Epoch: [40/250], Avg train loss: 0.6962, test loss: 0.6763, test_acc: 80.00%\n",
      "Epoch: [60/250], Avg train loss: 0.5744, test loss: 0.5442, test_acc: 96.67%\n",
      "Epoch: [80/250], Avg train loss: 0.4905, test loss: 0.4507, test_acc: 93.33%\n",
      "Epoch: [100/250], Avg train loss: 0.4341, test loss: 0.3873, test_acc: 93.33%\n",
      "Epoch: [120/250], Avg train loss: 0.3944, test loss: 0.3428, test_acc: 93.33%\n",
      "Epoch: [140/250], Avg train loss: 0.3648, test loss: 0.3097, test_acc: 93.33%\n",
      "Epoch: [160/250], Avg train loss: 0.3413, test loss: 0.2837, test_acc: 93.33%\n",
      "Epoch: [180/250], Avg train loss: 0.3219, test loss: 0.2625, test_acc: 93.33%\n",
      "Epoch: [200/250], Avg train loss: 0.3052, test loss: 0.2447, test_acc: 93.33%\n",
      "Epoch: [220/250], Avg train loss: 0.2904, test loss: 0.2296, test_acc: 96.67%\n",
      "Epoch: [240/250], Avg train loss: 0.2767, test loss: 0.2162, test_acc: 96.67%\n"
     ]
    }
   ],
   "source": [
    "NUM_EPOCHS = 250\n",
    "print_interval = 20 \n",
    "\n",
    "start_training(\n",
    "    model,\n",
    "    train_dataloader,\n",
    "    test_dataloader,\n",
    "    optimizer,\n",
    "    criterion,\n",
    "    NUM_EPOCHS,\n",
    "    print_interval\n",
    ")"
   ]
  },
  {
   "cell_type": "code",
   "execution_count": null,
   "id": "a106a955-22b3-4135-b570-038a1804b265",
   "metadata": {},
   "outputs": [],
   "source": []
  },
  {
   "cell_type": "code",
   "execution_count": null,
   "id": "79332bfd-9a68-4ecf-a0ee-e4db7f4f827b",
   "metadata": {},
   "outputs": [],
   "source": []
  },
  {
   "cell_type": "code",
   "execution_count": null,
   "id": "3104914e-832c-4b7e-8686-db148a2c27f2",
   "metadata": {},
   "outputs": [],
   "source": [
    "    "
   ]
  }
 ],
 "metadata": {
  "kernelspec": {
   "display_name": "Python [conda env:pytorch] *",
   "language": "python",
   "name": "conda-env-pytorch-py"
  },
  "language_info": {
   "codemirror_mode": {
    "name": "ipython",
    "version": 3
   },
   "file_extension": ".py",
   "mimetype": "text/x-python",
   "name": "python",
   "nbconvert_exporter": "python",
   "pygments_lexer": "ipython3",
   "version": "3.10.12"
  }
 },
 "nbformat": 4,
 "nbformat_minor": 5
}
