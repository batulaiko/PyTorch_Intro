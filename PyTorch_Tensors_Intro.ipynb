{
 "cells": [
  {
   "cell_type": "markdown",
   "id": "9d431ea9-076b-4097-9b26-6406e59c1879",
   "metadata": {},
   "source": [
    "# PyTorch Tensors Intro\n",
    "* WELCOME TO PYTORCH TUTORIALS: https://pytorch.org/tutorials/index.html\n",
    "* PYTORCH EXAMPLES: https://pytorch.org/examples/?utm_source=examples&utm_medium=examples-landing\n",
    "* PYTORCH CHEAT SHEET: https://pytorch.org/tutorials/beginner/ptcheat.html\n",
    "* BUILDING MODELS WITH PYTORCH: https://pytorch.org/tutorials/beginner/introyt/modelsyt_tutorial.html?highlight=autograd\n",
    "* Pytorch Github Tutorials: https://github.com/pytorch/tutorials"
   ]
  },
  {
   "cell_type": "code",
   "execution_count": 1,
   "id": "8bebd85f-622c-4101-afde-36bdcc586223",
   "metadata": {},
   "outputs": [],
   "source": [
    "import torch\n",
    "import torch.nn as nn\n",
    "import torch.nn.functional as F\n",
    "\n",
    "import matplotlib.pyplot as plt"
   ]
  },
  {
   "cell_type": "markdown",
   "id": "8e9275b2-fbe2-4ed7-a6eb-0c50cb73ca94",
   "metadata": {},
   "source": [
    "# Tensors\n",
    "### In Deep Learning, tensor is the default data structure\n",
    "* Similar to NumPy NDarrays (N dimentional array)\n",
    "* Single value tensor is called **scalar**\n",
    "* 1-dimensional tensor is called a **vector**\n",
    "* 2-dimensional tensor is often referred to as a **matrix**\n",
    "* Anything with more than two dimensions is generally just called a **tensor**\n",
    "* **In PyTorch, every data is some form of a tensor (with different dimensions and shapes)**"
   ]
  },
  {
   "cell_type": "code",
   "execution_count": 2,
   "id": "0a755977-cc4f-4c98-a83c-17c22f1a22f2",
   "metadata": {},
   "outputs": [
    {
     "data": {
      "text/plain": [
       "tensor(55)"
      ]
     },
     "execution_count": 2,
     "metadata": {},
     "output_type": "execute_result"
    }
   ],
   "source": [
    "# Single value\n",
    "scalar_tensor = torch.tensor(55)\n",
    "scalar_tensor"
   ]
  },
  {
   "cell_type": "code",
   "execution_count": 3,
   "id": "3f4a5d8e-db7b-4957-acdf-28adbd3d9f5e",
   "metadata": {},
   "outputs": [
    {
     "data": {
      "text/plain": [
       "tensor([22, -3, 55])"
      ]
     },
     "execution_count": 3,
     "metadata": {},
     "output_type": "execute_result"
    }
   ],
   "source": [
    "# List of values\n",
    "vector_tensor = torch.tensor([22, -3, 55])\n",
    "vector_tensor"
   ]
  },
  {
   "cell_type": "code",
   "execution_count": 4,
   "id": "46ef9efd-4675-44e0-a232-56f0529c3bdc",
   "metadata": {},
   "outputs": [
    {
     "data": {
      "text/plain": [
       "tensor([[22, -3, 55],\n",
       "        [-2,  5, 11],\n",
       "        [10, 47, 99]])"
      ]
     },
     "execution_count": 4,
     "metadata": {},
     "output_type": "execute_result"
    }
   ],
   "source": [
    "# 3x3 matrix\n",
    "matrix_tensor = torch.tensor([\n",
    "    [22, -3, 55],\n",
    "    [-2,  5, 11],\n",
    "    [10, 47, 99]\n",
    "])\n",
    "matrix_tensor"
   ]
  },
  {
   "cell_type": "markdown",
   "id": "5cd31589-7e63-4efb-a3b1-aab6cecb003a",
   "metadata": {},
   "source": [
    "### Shape (dimensions) of a tensor"
   ]
  },
  {
   "cell_type": "code",
   "execution_count": 5,
   "id": "0013ecfa-d320-4528-aa6c-82f00a332e87",
   "metadata": {},
   "outputs": [
    {
     "data": {
      "text/plain": [
       "torch.Size([])"
      ]
     },
     "execution_count": 5,
     "metadata": {},
     "output_type": "execute_result"
    }
   ],
   "source": [
    "scalar_tensor.shape"
   ]
  },
  {
   "cell_type": "code",
   "execution_count": 6,
   "id": "bbdc68c5-01ff-426b-ba17-38cd449b11f2",
   "metadata": {},
   "outputs": [
    {
     "data": {
      "text/plain": [
       "torch.Size([3])"
      ]
     },
     "execution_count": 6,
     "metadata": {},
     "output_type": "execute_result"
    }
   ],
   "source": [
    "vector_tensor.shape"
   ]
  },
  {
   "cell_type": "code",
   "execution_count": 7,
   "id": "cc7c28bb-e117-48b4-b5e0-158a3123369c",
   "metadata": {},
   "outputs": [
    {
     "data": {
      "text/plain": [
       "torch.Size([3, 3])"
      ]
     },
     "execution_count": 7,
     "metadata": {},
     "output_type": "execute_result"
    }
   ],
   "source": [
    "matrix_tensor.shape"
   ]
  },
  {
   "cell_type": "code",
   "execution_count": 8,
   "id": "613a6786-d595-48fb-9f88-0ccce130763e",
   "metadata": {},
   "outputs": [
    {
     "data": {
      "text/plain": [
       "torch.Size([3, 3])"
      ]
     },
     "execution_count": 8,
     "metadata": {},
     "output_type": "execute_result"
    }
   ],
   "source": [
    "# Or you can call size() method of tensors\n",
    "matrix_tensor.size()"
   ]
  },
  {
   "cell_type": "markdown",
   "id": "6512e953-169f-47b0-a12e-e6291d2f70c8",
   "metadata": {},
   "source": [
    "### Data type (dtype) of a tensor"
   ]
  },
  {
   "cell_type": "code",
   "execution_count": 9,
   "id": "b6de2ae2-16ec-45bd-bdac-177045dff170",
   "metadata": {},
   "outputs": [
    {
     "data": {
      "text/plain": [
       "torch.int64"
      ]
     },
     "execution_count": 9,
     "metadata": {},
     "output_type": "execute_result"
    }
   ],
   "source": [
    "scalar_tensor.dtype"
   ]
  },
  {
   "cell_type": "code",
   "execution_count": 10,
   "id": "965146cf-a45c-4d15-9c01-c8c959ac0f56",
   "metadata": {},
   "outputs": [
    {
     "data": {
      "text/plain": [
       "torch.int64"
      ]
     },
     "execution_count": 10,
     "metadata": {},
     "output_type": "execute_result"
    }
   ],
   "source": [
    "vector_tensor.dtype"
   ]
  },
  {
   "cell_type": "code",
   "execution_count": 11,
   "id": "43b0790f-d504-47e0-aa40-62871f96aa39",
   "metadata": {},
   "outputs": [
    {
     "data": {
      "text/plain": [
       "torch.int64"
      ]
     },
     "execution_count": 11,
     "metadata": {},
     "output_type": "execute_result"
    }
   ],
   "source": [
    "matrix_tensor.dtype"
   ]
  },
  {
   "cell_type": "markdown",
   "id": "0ffbfad2-9d4d-4104-b4ef-ec6ed4f916a2",
   "metadata": {},
   "source": [
    "### Note: Most of the time, we need float tensors\n",
    "#### Neural networks work with floating point numbers"
   ]
  },
  {
   "cell_type": "code",
   "execution_count": 12,
   "id": "46381301-9fc3-41dd-b77a-f53b2ca0fd4f",
   "metadata": {},
   "outputs": [
    {
     "data": {
      "text/plain": [
       "tensor([22., -3., 55.])"
      ]
     },
     "execution_count": 12,
     "metadata": {},
     "output_type": "execute_result"
    }
   ],
   "source": [
    "# Pass the dtype when initializing\n",
    "float_tensor = torch.tensor([22, -3, 55], dtype=torch.float32)\n",
    "float_tensor"
   ]
  },
  {
   "cell_type": "code",
   "execution_count": 13,
   "id": "641c24e3-b261-4b2c-a442-d6f5e8f31007",
   "metadata": {},
   "outputs": [
    {
     "data": {
      "text/plain": [
       "tensor([22., -3., 55.])"
      ]
     },
     "execution_count": 13,
     "metadata": {},
     "output_type": "execute_result"
    }
   ],
   "source": [
    "# Or you can just use FloatTensor\n",
    "float_tensor2 = torch.FloatTensor([22, -3, 55])\n",
    "float_tensor2"
   ]
  },
  {
   "cell_type": "code",
   "execution_count": 14,
   "id": "499d64fe-9ad3-4eee-9e07-5cebe0a4ef49",
   "metadata": {},
   "outputs": [
    {
     "data": {
      "text/plain": [
       "tensor([22., -3., 55.])"
      ]
     },
     "execution_count": 14,
     "metadata": {},
     "output_type": "execute_result"
    }
   ],
   "source": [
    "# Initialize tensor with floating numbers\n",
    "float_tensor3 = torch.tensor([22.0, -3.0, 55.0])\n",
    "float_tensor3"
   ]
  },
  {
   "cell_type": "markdown",
   "id": "3e60d6af-3eba-4d0a-80e2-d490c3829da4",
   "metadata": {},
   "source": [
    "### Random Tensors"
   ]
  },
  {
   "cell_type": "code",
   "execution_count": 15,
   "id": "2f852575-1eeb-44a1-9070-62bf774aed6c",
   "metadata": {
    "scrolled": true
   },
   "outputs": [
    {
     "data": {
      "text/plain": [
       "tensor([[-0.5573, -0.2986, -0.5553],\n",
       "        [-0.9897, -0.8661, -0.3819]])"
      ]
     },
     "execution_count": 15,
     "metadata": {},
     "output_type": "execute_result"
    }
   ],
   "source": [
    "# Normally distributed random numbers\n",
    "# remember size is the same as shape\n",
    "random_tensor = torch.randn(size=(2, 3))\n",
    "random_tensor"
   ]
  },
  {
   "cell_type": "code",
   "execution_count": 16,
   "id": "438237b8-0d2a-4813-ad79-c3e1a385c3cb",
   "metadata": {},
   "outputs": [
    {
     "data": {
      "text/plain": [
       "tensor([[-1.0513,  0.8982, -0.2578],\n",
       "        [ 0.4312,  0.4443,  0.3232]])"
      ]
     },
     "execution_count": 16,
     "metadata": {},
     "output_type": "execute_result"
    }
   ],
   "source": [
    "# Call again to get different numbers\n",
    "random_tensor = torch.randn(size=(2, 3))\n",
    "random_tensor"
   ]
  },
  {
   "cell_type": "code",
   "execution_count": 17,
   "id": "dbc547a2-f92d-4d77-8f05-b0fdef5c16ac",
   "metadata": {},
   "outputs": [
    {
     "data": {
      "text/plain": [
       "(tensor(0.1313), tensor(0.6874))"
      ]
     },
     "execution_count": 17,
     "metadata": {},
     "output_type": "execute_result"
    }
   ],
   "source": [
    "random_tensor.mean(), random_tensor.std()"
   ]
  },
  {
   "cell_type": "markdown",
   "id": "5121b2be-dc49-4f7c-a642-d05803f9fb89",
   "metadata": {},
   "source": [
    "### Tensor Operations"
   ]
  },
  {
   "cell_type": "code",
   "execution_count": 18,
   "id": "14c6e48d-099f-46bd-8eef-47c970329597",
   "metadata": {},
   "outputs": [],
   "source": [
    "tensor1 = torch.tensor([22.0, 44.0])\n",
    "tensor2 = torch.tensor([1.0,  2.0])"
   ]
  },
  {
   "cell_type": "markdown",
   "id": "0afdd3d0-ab07-43d0-aca9-b731d43e08b2",
   "metadata": {},
   "source": [
    "### Element-wise operations"
   ]
  },
  {
   "cell_type": "code",
   "execution_count": 19,
   "id": "6847df0f-5501-41d8-be03-8486822d61c9",
   "metadata": {},
   "outputs": [
    {
     "name": "stdout",
     "output_type": "stream",
     "text": [
      "tensor([23., 46.])\n",
      "tensor([21., 42.])\n",
      "tensor([22., 88.])\n",
      "tensor([22., 22.])\n"
     ]
    }
   ],
   "source": [
    "print(tensor1 + tensor2)\n",
    "print(tensor1 - tensor2)\n",
    "print(tensor1 * tensor2)\n",
    "print(tensor1 / tensor2)"
   ]
  },
  {
   "cell_type": "markdown",
   "id": "641efc95-6519-4949-a5c3-5e9a4716be75",
   "metadata": {},
   "source": [
    "### Broadcasting\n",
    "* Scalar values are **braodcasted** to all elements\n",
    "* https://pytorch.org/docs/stable/notes/broadcasting.html"
   ]
  },
  {
   "cell_type": "code",
   "execution_count": 20,
   "id": "a78584a8-d1a3-4d8e-9f5b-968f8e2e5e84",
   "metadata": {},
   "outputs": [
    {
     "data": {
      "text/plain": [
       "tensor([6., 7.])"
      ]
     },
     "execution_count": 20,
     "metadata": {},
     "output_type": "execute_result"
    }
   ],
   "source": [
    "# tensor2 = torch.tensor([1.0,  2.0])\n",
    "tensor2 + 5"
   ]
  },
  {
   "cell_type": "code",
   "execution_count": 21,
   "id": "ddfe30ef-cf3f-43bd-826f-72cb5ca4e895",
   "metadata": {},
   "outputs": [
    {
     "data": {
      "text/plain": [
       "tensor([ 5., 10.])"
      ]
     },
     "execution_count": 21,
     "metadata": {},
     "output_type": "execute_result"
    }
   ],
   "source": [
    "tensor2 * 5"
   ]
  },
  {
   "cell_type": "markdown",
   "id": "6f2b74fc-be25-4e78-87ef-67a9cb3a6c11",
   "metadata": {},
   "source": [
    "### Advanced Broadcasting Operations\n",
    "* Start from last dim\n",
    "* Dims must be equal, 1 or doesn't exist!\n",
    "* If equal, leave it\n",
    "* If 1, copy\n",
    "* If doesn't exist, add dummy dim of 1 (and copy if required)"
   ]
  },
  {
   "cell_type": "code",
   "execution_count": 22,
   "id": "fbd3639f-7a3b-43bd-bcba-2082bae39e84",
   "metadata": {},
   "outputs": [
    {
     "name": "stdout",
     "output_type": "stream",
     "text": [
      "t1.shape=torch.Size([2, 3, 25]), t2.shape=torch.Size([1, 25])\n"
     ]
    }
   ],
   "source": [
    "t1 = torch.randn(2, 3, 25)\n",
    "t2 = torch.randn(1, 25)\n",
    "\n",
    "# 25 matched!\n",
    "# 3 -> 1, copy three times\n",
    "# 2 don't have matching dim -> add dummy dim of 1 (1, 3, 25)\n",
    "# 2 -> 1, copy 2 times -> (2, 3, 25)\n",
    "\n",
    "print(f'{t1.shape=}, {t2.shape=}')"
   ]
  },
  {
   "cell_type": "code",
   "execution_count": 23,
   "id": "a06c28db-dd0c-4312-ac49-98f3974bc356",
   "metadata": {},
   "outputs": [
    {
     "data": {
      "text/plain": [
       "torch.Size([2, 3, 25])"
      ]
     },
     "execution_count": 23,
     "metadata": {},
     "output_type": "execute_result"
    }
   ],
   "source": [
    "res = t1 + t2\n",
    "res.shape"
   ]
  },
  {
   "cell_type": "code",
   "execution_count": 24,
   "id": "aa7ad2ec-85c6-4df3-a116-15fa3a5d0723",
   "metadata": {},
   "outputs": [
    {
     "name": "stdout",
     "output_type": "stream",
     "text": [
      "t3.shape=torch.Size([1, 3, 1]), t4.shape=torch.Size([3])\n"
     ]
    }
   ],
   "source": [
    "t3 = torch.randn(1, 3, 1)\n",
    "t4 = torch.randn(3)\n",
    "\n",
    "# t3 -> copy 3 three times (1, 3, 3)\n",
    "# t4 -> add dummy dim of 1 (1, 3), copy 3 times  (3, 3)\n",
    "# t4 -> add dummy dim of 1 -> t3: (1, 3, 3) , t4:(1, 3, 3)\n",
    "\n",
    "print(f'{t3.shape=}, {t4.shape=}')"
   ]
  },
  {
   "cell_type": "code",
   "execution_count": 25,
   "id": "0eae4ac6-f114-462f-81ae-ab21acfc1bad",
   "metadata": {},
   "outputs": [
    {
     "data": {
      "text/plain": [
       "torch.Size([1, 3, 3])"
      ]
     },
     "execution_count": 25,
     "metadata": {},
     "output_type": "execute_result"
    }
   ],
   "source": [
    "res = t3 + t4\n",
    "res.shape"
   ]
  },
  {
   "cell_type": "markdown",
   "id": "40b3480c-b770-42e4-9ecb-71c2940732fe",
   "metadata": {},
   "source": [
    "### This operation won't work\n",
    "* dim of \"2\" and \"3\" don't match and can't be broadcasted\n",
    "* Only dim of \"1\" can be copied"
   ]
  },
  {
   "cell_type": "raw",
   "id": "d9ce4452-1bcb-4735-8efd-e678dfafee1e",
   "metadata": {},
   "source": [
    "t5 = torch.randn(1, 3, 2)\n",
    "t6 = torch.randn(3)\n",
    "\n",
    "print(f'{t5.shape=}, {t6.shape=}')"
   ]
  },
  {
   "cell_type": "raw",
   "id": "33900905-4056-4ea9-9d00-041bb80fd70e",
   "metadata": {},
   "source": [
    "res = t5 + t6\n",
    "res.shape"
   ]
  },
  {
   "cell_type": "markdown",
   "id": "a285f06c-72a9-4d84-98a7-ffe926c032ad",
   "metadata": {},
   "source": [
    "### Example: Batched RGB Image Data"
   ]
  },
  {
   "cell_type": "code",
   "execution_count": 26,
   "id": "43cb6ffe-235d-4935-83d3-774de5981a6f",
   "metadata": {},
   "outputs": [
    {
     "data": {
      "text/plain": [
       "torch.Size([32, 3, 224, 224])"
      ]
     },
     "execution_count": 26,
     "metadata": {},
     "output_type": "execute_result"
    }
   ],
   "source": [
    "# Training\n",
    "# 224x224 RGB image, 32 batch\n",
    "t7 = torch.randn(32, 3, 224, 224)\n",
    "t7.shape"
   ]
  },
  {
   "cell_type": "code",
   "execution_count": 27,
   "id": "48bcc577-7a0b-493b-8665-9342c3d04ec0",
   "metadata": {},
   "outputs": [
    {
     "data": {
      "text/plain": [
       "torch.Size([3, 224, 224])"
      ]
     },
     "execution_count": 27,
     "metadata": {},
     "output_type": "execute_result"
    }
   ],
   "source": [
    "# Training is over, prediction over a single image\n",
    "img_t = torch.randn(3, 224, 224)\n",
    "img_t.shape"
   ]
  },
  {
   "cell_type": "markdown",
   "id": "490cbbed-f303-4936-97ca-20140cf84df8",
   "metadata": {},
   "source": [
    "### Adding Dimensions"
   ]
  },
  {
   "cell_type": "code",
   "execution_count": 28,
   "id": "572837f1-8b3b-4989-872e-62ae93b5f9e6",
   "metadata": {},
   "outputs": [],
   "source": [
    "imt_t_with_batch = img_t.unsqueeze(0)"
   ]
  },
  {
   "cell_type": "code",
   "execution_count": 29,
   "id": "696847c3-2934-4a79-9163-c0a25f60bde4",
   "metadata": {},
   "outputs": [
    {
     "data": {
      "text/plain": [
       "torch.Size([1, 3, 224, 224])"
      ]
     },
     "execution_count": 29,
     "metadata": {},
     "output_type": "execute_result"
    }
   ],
   "source": [
    "imt_t_with_batch.shape"
   ]
  },
  {
   "cell_type": "markdown",
   "id": "630e2295-ca33-4ac4-953b-62cd6909c52e",
   "metadata": {},
   "source": [
    "#### Add dim with extra row\n",
    "* NOTE: this is different than adding \"1\" as dimension\n",
    "* In this case, we actually add useful information"
   ]
  },
  {
   "cell_type": "code",
   "execution_count": 30,
   "id": "0e698456-f083-454e-89b1-8a0c7fa915c5",
   "metadata": {},
   "outputs": [
    {
     "data": {
      "text/plain": [
       "tensor([[22, -3, 55],\n",
       "        [-2,  5, 11],\n",
       "        [10, 47, 99],\n",
       "        [10, 47, 99]])"
      ]
     },
     "execution_count": 30,
     "metadata": {},
     "output_type": "execute_result"
    }
   ],
   "source": [
    "# 4x3 matrix\n",
    "t9 = torch.tensor([\n",
    "    [22, -3, 55],\n",
    "    [-2,  5, 11],\n",
    "    [10, 47, 99],\n",
    "    [10, 47, 99]\n",
    "])\n",
    "t9"
   ]
  },
  {
   "cell_type": "code",
   "execution_count": 31,
   "id": "a51382e8-cddf-4d4f-9340-5316cd52e177",
   "metadata": {},
   "outputs": [
    {
     "data": {
      "text/plain": [
       "torch.Size([4, 3])"
      ]
     },
     "execution_count": 31,
     "metadata": {},
     "output_type": "execute_result"
    }
   ],
   "source": [
    "t9.shape"
   ]
  },
  {
   "cell_type": "markdown",
   "id": "07431016-e9eb-47fd-995f-92018873f95c",
   "metadata": {},
   "source": [
    "### Adding dimension of \"1\" will not add useful information\n",
    "* Usually dim of \"1\" regarded as \"dummy dimension\""
   ]
  },
  {
   "cell_type": "code",
   "execution_count": 32,
   "id": "59085dd0-8ad8-4788-9bbc-9ad7f7bad568",
   "metadata": {},
   "outputs": [],
   "source": [
    "t9_2 = t9.unsqueeze(0).unsqueeze(0).unsqueeze(0).unsqueeze(0)"
   ]
  },
  {
   "cell_type": "code",
   "execution_count": 33,
   "id": "7f969658-421b-45c3-ab56-fc8249d8338a",
   "metadata": {},
   "outputs": [
    {
     "data": {
      "text/plain": [
       "tensor([[[[[[22, -3, 55],\n",
       "            [-2,  5, 11],\n",
       "            [10, 47, 99],\n",
       "            [10, 47, 99]]]]]])"
      ]
     },
     "execution_count": 33,
     "metadata": {},
     "output_type": "execute_result"
    }
   ],
   "source": [
    "t9_2"
   ]
  },
  {
   "cell_type": "markdown",
   "id": "599583ed-a36c-446d-991c-f5c4aa5e43d7",
   "metadata": {},
   "source": [
    "### Vector and Matrix Operations"
   ]
  },
  {
   "cell_type": "code",
   "execution_count": 34,
   "id": "4925a3a0-2be5-4633-88e7-faee082c3913",
   "metadata": {},
   "outputs": [
    {
     "data": {
      "text/plain": [
       "tensor([22., 44.])"
      ]
     },
     "execution_count": 34,
     "metadata": {},
     "output_type": "execute_result"
    }
   ],
   "source": [
    "tensor1"
   ]
  },
  {
   "cell_type": "code",
   "execution_count": 35,
   "id": "e4c3b024-6b3d-4cfd-a35d-75ec5d55fb4a",
   "metadata": {},
   "outputs": [
    {
     "data": {
      "text/plain": [
       "tensor([1., 2.])"
      ]
     },
     "execution_count": 35,
     "metadata": {},
     "output_type": "execute_result"
    }
   ],
   "source": [
    "tensor2"
   ]
  },
  {
   "cell_type": "code",
   "execution_count": 36,
   "id": "80d3589a-bb58-4b78-a4d0-4058557e59d4",
   "metadata": {},
   "outputs": [
    {
     "data": {
      "text/plain": [
       "110.0"
      ]
     },
     "execution_count": 36,
     "metadata": {},
     "output_type": "execute_result"
    }
   ],
   "source": [
    "22.0*1.0 + 44.0*2.0"
   ]
  },
  {
   "cell_type": "code",
   "execution_count": 37,
   "id": "09174c3f-b6d0-4070-93c1-07e3bf773265",
   "metadata": {},
   "outputs": [
    {
     "data": {
      "text/plain": [
       "tensor(110.)"
      ]
     },
     "execution_count": 37,
     "metadata": {},
     "output_type": "execute_result"
    }
   ],
   "source": [
    "# Dot product\n",
    "# (22.0*1.0) + (44.0*2.0)\n",
    "torch.dot(tensor1, tensor2)"
   ]
  },
  {
   "cell_type": "code",
   "execution_count": 38,
   "id": "b71bedab-529a-412a-aef0-b3edb3b668b3",
   "metadata": {},
   "outputs": [
    {
     "data": {
      "text/plain": [
       "tensor([[217,  51],\n",
       "        [-15,  19]])"
      ]
     },
     "execution_count": 38,
     "metadata": {},
     "output_type": "execute_result"
    }
   ],
   "source": [
    "# Matrix multiplication\n",
    "# (2x2) * (2x2) -> result will be a 2x2 matrix\n",
    "matrix_tensor1 = torch.tensor([\n",
    "    [22, -3],\n",
    "    [-2,  5],\n",
    "])\n",
    "\n",
    "matrix_tensor2 = torch.tensor([\n",
    "    [10, 3],\n",
    "    [1,  5],\n",
    "])\n",
    "\n",
    "torch.mm(matrix_tensor1, matrix_tensor2)"
   ]
  },
  {
   "cell_type": "markdown",
   "id": "73ea2a04-b61e-4737-a8b3-d4923fde9500",
   "metadata": {},
   "source": [
    "### Non-Destructive Operations\n",
    "* By default, a new tensor is created on function calls"
   ]
  },
  {
   "cell_type": "code",
   "execution_count": 39,
   "id": "bf6616dd-77c6-447d-ac2e-01fcedd2cdf7",
   "metadata": {},
   "outputs": [
    {
     "data": {
      "text/plain": [
       "tensor([4., 9.])"
      ]
     },
     "execution_count": 39,
     "metadata": {},
     "output_type": "execute_result"
    }
   ],
   "source": [
    "tensor4 = torch.tensor([2.0, 3.0])\n",
    "tensor4.pow(2)"
   ]
  },
  {
   "cell_type": "code",
   "execution_count": 40,
   "id": "5cf10a0e-6459-476d-b07b-36e0921b1053",
   "metadata": {},
   "outputs": [
    {
     "data": {
      "text/plain": [
       "tensor([2., 3.])"
      ]
     },
     "execution_count": 40,
     "metadata": {},
     "output_type": "execute_result"
    }
   ],
   "source": [
    "tensor4"
   ]
  },
  {
   "cell_type": "markdown",
   "id": "c265f9d3-864e-4665-b1c7-894e301f97c0",
   "metadata": {},
   "source": [
    "### In-place operation\n",
    "* Notice we use **pow_()** not pow()\n",
    "* Underline at the end has special meaning in PyTorch\n",
    "* It represents in-place (overwriting) operation "
   ]
  },
  {
   "cell_type": "code",
   "execution_count": 41,
   "id": "a8c3feb5-8980-4f16-87da-25a7880884ed",
   "metadata": {},
   "outputs": [
    {
     "data": {
      "text/plain": [
       "tensor([4., 9.])"
      ]
     },
     "execution_count": 41,
     "metadata": {},
     "output_type": "execute_result"
    }
   ],
   "source": [
    "tensor4.pow_(2)\n",
    "tensor4"
   ]
  },
  {
   "cell_type": "markdown",
   "id": "37c8fc7f-ac65-4d60-b7b7-1f9cc949feac",
   "metadata": {},
   "source": [
    "### Copying Tensors\n",
    "* Assigning a tensor to a variable makes the variable a referance of the tensor, and does not copy it (**\"pass by referance\"**)"
   ]
  },
  {
   "cell_type": "code",
   "execution_count": 42,
   "id": "e9b302b6-614e-4810-be50-cb19064ca8b1",
   "metadata": {},
   "outputs": [
    {
     "data": {
      "text/plain": [
       "tensor([55., 66.])"
      ]
     },
     "execution_count": 42,
     "metadata": {},
     "output_type": "execute_result"
    }
   ],
   "source": [
    "tensor5 = torch.tensor([55.0, 66.0])\n",
    "tensor6 = tensor5\n",
    "tensor6"
   ]
  },
  {
   "cell_type": "code",
   "execution_count": 43,
   "id": "0a907d2d-4b44-4c14-89c3-a8b3987dc3a2",
   "metadata": {},
   "outputs": [
    {
     "name": "stdout",
     "output_type": "stream",
     "text": [
      "tensor([3025., 4356.])\n",
      "tensor([3025., 4356.])\n"
     ]
    }
   ],
   "source": [
    "tensor5.pow_(2)\n",
    "\n",
    "# Both are modified, tensor6 refers to tensor5 by memory\n",
    "print(tensor5)\n",
    "print(tensor6)"
   ]
  },
  {
   "cell_type": "markdown",
   "id": "13811b3f-2f72-4c50-b73d-93a3a40a4343",
   "metadata": {},
   "source": [
    "### Use *clone()* instead"
   ]
  },
  {
   "cell_type": "code",
   "execution_count": 44,
   "id": "1f48dcee-3550-415f-afcf-8f2a3a12ce36",
   "metadata": {},
   "outputs": [],
   "source": [
    "tensor5 = torch.tensor([55.0, 66.0])\n",
    "tensor5_copy = tensor5.clone()"
   ]
  },
  {
   "cell_type": "code",
   "execution_count": 45,
   "id": "de9c98c8-ab7f-4a5a-9530-d47cbf2e682d",
   "metadata": {},
   "outputs": [
    {
     "name": "stdout",
     "output_type": "stream",
     "text": [
      "tensor([3025., 4356.])\n",
      "tensor([55., 66.])\n"
     ]
    }
   ],
   "source": [
    "tensor5.pow_(2)\n",
    "\n",
    "# Clone is not modified, it is a different tensor\n",
    "print(tensor5)\n",
    "print(tensor5_copy)"
   ]
  },
  {
   "cell_type": "markdown",
   "id": "e49489fc-afd1-48b0-a40f-0916fad36b86",
   "metadata": {},
   "source": [
    "### From Numpy array"
   ]
  },
  {
   "cell_type": "code",
   "execution_count": 46,
   "id": "0f1fa29a-58d6-40a0-a4d6-5cf512cd36d5",
   "metadata": {},
   "outputs": [
    {
     "data": {
      "text/plain": [
       "array([ 47.,  -3.,  99., 105.])"
      ]
     },
     "execution_count": 46,
     "metadata": {},
     "output_type": "execute_result"
    }
   ],
   "source": [
    "import numpy as np\n",
    "\n",
    "np_array = np.array([47.0, -3.0, 99.0, 105.0])\n",
    "np_array"
   ]
  },
  {
   "cell_type": "code",
   "execution_count": 47,
   "id": "fb16dced-b173-4ff6-b219-ac8a277fb155",
   "metadata": {},
   "outputs": [
    {
     "data": {
      "text/plain": [
       "tensor([ 47.,  -3.,  99., 105.], dtype=torch.float64)"
      ]
     },
     "execution_count": 47,
     "metadata": {},
     "output_type": "execute_result"
    }
   ],
   "source": [
    "# You can just pass in, NumPy arrays are supported by default\n",
    "tensor_from_np = torch.tensor(np_array)\n",
    "tensor_from_np"
   ]
  },
  {
   "cell_type": "markdown",
   "id": "64d6b5bf-40db-46f4-9627-b29f0a9a92db",
   "metadata": {},
   "source": [
    "### Covert Tensor to NumPy Array"
   ]
  },
  {
   "cell_type": "code",
   "execution_count": 48,
   "id": "87884bdd-0909-4d8a-97db-759ea5f03158",
   "metadata": {},
   "outputs": [
    {
     "data": {
      "text/plain": [
       "tensor([-5.,  2.])"
      ]
     },
     "execution_count": 48,
     "metadata": {},
     "output_type": "execute_result"
    }
   ],
   "source": [
    "tensor7 = torch.tensor([-5.0, 2.0])\n",
    "tensor7"
   ]
  },
  {
   "cell_type": "code",
   "execution_count": 49,
   "id": "43db1261-7e76-4041-a310-987aba11950a",
   "metadata": {},
   "outputs": [
    {
     "data": {
      "text/plain": [
       "array([-5.,  2.], dtype=float32)"
      ]
     },
     "execution_count": 49,
     "metadata": {},
     "output_type": "execute_result"
    }
   ],
   "source": [
    "tensor7.numpy()"
   ]
  },
  {
   "cell_type": "markdown",
   "id": "21c66f07-b591-4de1-a4d1-91ea2537ae5d",
   "metadata": {},
   "source": [
    "### Covert Tensor to Basic Python "
   ]
  },
  {
   "cell_type": "code",
   "execution_count": 50,
   "id": "6ced9bc5-84ab-41a2-9fbf-dc0dd228282e",
   "metadata": {},
   "outputs": [
    {
     "data": {
      "text/plain": [
       "[-5.0, 2.0]"
      ]
     },
     "execution_count": 50,
     "metadata": {},
     "output_type": "execute_result"
    }
   ],
   "source": [
    "tensor7.tolist()"
   ]
  },
  {
   "cell_type": "markdown",
   "id": "63b052c5-6a53-43f7-911e-6c65a6caa351",
   "metadata": {},
   "source": [
    "### Covert Scalar Tensor to a single Python number\n",
    "* NOTE: item() function only works on scalars!"
   ]
  },
  {
   "cell_type": "code",
   "execution_count": 51,
   "id": "25f70608-41e9-4a47-b5d6-9551cd406dbc",
   "metadata": {},
   "outputs": [
    {
     "data": {
      "text/plain": [
       "100.0"
      ]
     },
     "execution_count": 51,
     "metadata": {},
     "output_type": "execute_result"
    }
   ],
   "source": [
    "tensor8 = torch.tensor(100.0)\n",
    "tensor8.item()"
   ]
  },
  {
   "cell_type": "code",
   "execution_count": 52,
   "id": "388cceaf-106c-4d6d-9e6a-3a995902bd0f",
   "metadata": {},
   "outputs": [
    {
     "name": "stdout",
     "output_type": "stream",
     "text": [
      "<class 'torch.Tensor'>\n",
      "<class 'float'>\n"
     ]
    }
   ],
   "source": [
    "print(type(tensor8))\n",
    "print(type(tensor8.item()))"
   ]
  },
  {
   "cell_type": "markdown",
   "id": "75b22779-37f7-402a-8f55-637d763e4d83",
   "metadata": {},
   "source": [
    "# Moving tensors to GPU and back"
   ]
  },
  {
   "cell_type": "code",
   "execution_count": 53,
   "id": "6214e8ed-da48-4ccd-ba75-bea4d71b06df",
   "metadata": {},
   "outputs": [
    {
     "name": "stdout",
     "output_type": "stream",
     "text": [
      "GPU is available\n"
     ]
    }
   ],
   "source": [
    "if torch.cuda.is_available():\n",
    "    print('GPU is available')\n",
    "else:\n",
    "    print('GPU is not available, CPU only')"
   ]
  },
  {
   "cell_type": "code",
   "execution_count": 54,
   "id": "ec781f63-db2d-4741-8f72-76fb695c1d08",
   "metadata": {},
   "outputs": [
    {
     "data": {
      "text/plain": [
       "tensor([-5.,  2.], device='cuda:0')"
      ]
     },
     "execution_count": 54,
     "metadata": {},
     "output_type": "execute_result"
    }
   ],
   "source": [
    "# Initialize tensor directly on GPU\n",
    "# cuda:0 means that first GPU\n",
    "# In Deep learning, it is common to use multiple GPUs\n",
    "tensor_cuda = torch.tensor([-5.0, 2.0], device='cuda:0')\n",
    "tensor_cuda"
   ]
  },
  {
   "cell_type": "code",
   "execution_count": 55,
   "id": "8d396e4d-8029-48c2-b09c-c421ad65aa3e",
   "metadata": {},
   "outputs": [
    {
     "data": {
      "text/plain": [
       "tensor([-5.,  2.], device='cuda:0')"
      ]
     },
     "execution_count": 55,
     "metadata": {},
     "output_type": "execute_result"
    }
   ],
   "source": [
    "# Move CPU initialized tensor to GPU\n",
    "tensor_cpu = torch.tensor([-5.0, 2.0])\n",
    "tensor_cuda = tensor_cpu.to('cuda:0')\n",
    "tensor_cuda"
   ]
  },
  {
   "cell_type": "markdown",
   "id": "4ad6d865-d480-41a4-ba6b-9880a2741ad2",
   "metadata": {},
   "source": [
    "### Move GPU tensor back to CPU"
   ]
  },
  {
   "cell_type": "code",
   "execution_count": 56,
   "id": "a1215b8a-00d0-4b62-a455-b6d53fbc3407",
   "metadata": {},
   "outputs": [
    {
     "data": {
      "text/plain": [
       "tensor([-5.,  2.])"
      ]
     },
     "execution_count": 56,
     "metadata": {},
     "output_type": "execute_result"
    }
   ],
   "source": [
    "tensor_cpu_back = tensor_cuda.to('cpu')\n",
    "tensor_cpu_back"
   ]
  },
  {
   "cell_type": "markdown",
   "id": "98c66a7f-bec5-4e20-bc4e-8112a605b619",
   "metadata": {},
   "source": [
    "### Alternatively you can use *cpu()* and *cuda()*"
   ]
  },
  {
   "cell_type": "code",
   "execution_count": 57,
   "id": "08189602-d4d8-4a15-a597-9f6deffb9bc0",
   "metadata": {},
   "outputs": [
    {
     "data": {
      "text/plain": [
       "tensor([-5.,  2.], device='cuda:0')"
      ]
     },
     "execution_count": 57,
     "metadata": {},
     "output_type": "execute_result"
    }
   ],
   "source": [
    "tensor_cpu = torch.tensor([-5.0, 2.0])\n",
    "tensor_cuda = tensor_cpu.cuda()\n",
    "tensor_cuda"
   ]
  },
  {
   "cell_type": "code",
   "execution_count": 58,
   "id": "ed5f872c-78da-45d9-b845-0d66a5e9f97d",
   "metadata": {},
   "outputs": [
    {
     "data": {
      "text/plain": [
       "tensor([-5.,  2.])"
      ]
     },
     "execution_count": 58,
     "metadata": {},
     "output_type": "execute_result"
    }
   ],
   "source": [
    "tensor_cpu_back = tensor_cuda.cpu()\n",
    "tensor_cpu_back"
   ]
  },
  {
   "cell_type": "code",
   "execution_count": null,
   "id": "89ff61e2-198b-4462-8063-153962374f90",
   "metadata": {},
   "outputs": [],
   "source": []
  }
 ],
 "metadata": {
  "kernelspec": {
   "display_name": "Python [conda env:pytorch] *",
   "language": "python",
   "name": "conda-env-pytorch-py"
  },
  "language_info": {
   "codemirror_mode": {
    "name": "ipython",
    "version": 3
   },
   "file_extension": ".py",
   "mimetype": "text/x-python",
   "name": "python",
   "nbconvert_exporter": "python",
   "pygments_lexer": "ipython3",
   "version": "3.10.12"
  }
 },
 "nbformat": 4,
 "nbformat_minor": 5
}
