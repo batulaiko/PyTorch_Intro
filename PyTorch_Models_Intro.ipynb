{
 "cells": [
  {
   "cell_type": "markdown",
   "id": "e538dfc0-a01f-454f-9f50-e21a6bb1e5d3",
   "metadata": {},
   "source": [
    "# PyTorch Models Intro\n",
    "### Building Deep Learning Models using nn.Module"
   ]
  },
  {
   "cell_type": "code",
   "execution_count": 1,
   "id": "bbcbc5a0-be86-46d7-84bb-65d013b6a7cc",
   "metadata": {},
   "outputs": [],
   "source": [
    "import torch\n",
    "import torch.nn as nn"
   ]
  },
  {
   "cell_type": "markdown",
   "id": "58f0a713-54d9-49dd-a1bf-e3790d9cdd3f",
   "metadata": {},
   "source": [
    "# Basic Linear Classifier\n",
    "* $y = w_1x_1 + w_2x_2 + w_3x_3 + \\dots + w_0$\n",
    "* $w_i$ and $w_0$ are the trainable parameters\n",
    "* $x_i$ is the input (data), $y$ is the output (prediction)\n",
    "* All models (and layers) are subclass of **nn.Module** in PyTorch\n",
    "* nn.Parameter() is the basic learnable parameter inside the module"
   ]
  },
  {
   "cell_type": "markdown",
   "id": "d0cae22e-6c8c-49a1-89fe-e7316f4c1f41",
   "metadata": {},
   "source": [
    "## Using Dot Product"
   ]
  },
  {
   "cell_type": "code",
   "execution_count": 2,
   "id": "3d165677-6986-4954-ac2b-88b7f99bd51d",
   "metadata": {},
   "outputs": [],
   "source": [
    "class BasicLinearDot(nn.Module):\n",
    "    def __init__(self, features_dim):\n",
    "        # YOU NEED TO RUN FOR INITIALIZATION OF MODULE\n",
    "        super().__init__() \n",
    "\n",
    "        # bias\n",
    "        self.w_0 = nn.Parameter(torch.zeros(1))\n",
    "        # weights\n",
    "        self.w_1 = nn.Parameter(torch.randn(features_dim))\n",
    "\n",
    "    def forward(self, x):\n",
    "        y = torch.dot(self.w_1, x) + self.w_0\n",
    "        return y"
   ]
  },
  {
   "cell_type": "code",
   "execution_count": 3,
   "id": "46c6059c-9d16-47a2-9674-e5888a35c779",
   "metadata": {},
   "outputs": [],
   "source": [
    "model_dot = BasicLinearDot(features_dim=20)"
   ]
  },
  {
   "cell_type": "code",
   "execution_count": 4,
   "id": "0963db1f-d3f0-42bd-949b-bbf702cd1236",
   "metadata": {},
   "outputs": [
    {
     "name": "stdout",
     "output_type": "stream",
     "text": [
      "w_0: Parameter containing:\n",
      "tensor([0.], requires_grad=True)\n",
      "\n",
      "w_1: Parameter containing:\n",
      "tensor([ 1.7503, -0.7612, -1.3693,  0.1056, -1.1083,  0.0432,  1.7436,  0.1492,\n",
      "        -0.6401, -0.3198, -0.6363,  2.6257, -0.3170,  0.5642, -0.4097, -0.8689,\n",
      "        -1.0067,  1.8920, -1.3034, -0.8915], requires_grad=True)\n",
      "\n"
     ]
    }
   ],
   "source": [
    "for name, parameter in model_dot.named_parameters():\n",
    "    print(f'{name}: {parameter}')\n",
    "    print() # empty line to improve the readability"
   ]
  },
  {
   "cell_type": "markdown",
   "id": "aedbe0a1-cba3-420c-9fdc-fb7fe7908093",
   "metadata": {},
   "source": [
    "### Test with dummy data"
   ]
  },
  {
   "cell_type": "code",
   "execution_count": 5,
   "id": "8a99fc74-60e9-4cc9-adb0-936f1184b1a8",
   "metadata": {},
   "outputs": [
    {
     "data": {
      "text/plain": [
       "torch.Size([20])"
      ]
     },
     "execution_count": 5,
     "metadata": {},
     "output_type": "execute_result"
    }
   ],
   "source": [
    "features = 20\n",
    "\n",
    "dummy_data = torch.randn(features)\n",
    "dummy_data.shape"
   ]
  },
  {
   "cell_type": "code",
   "execution_count": 6,
   "id": "81b3ec26-4a05-4e30-b838-dcf0ab93593d",
   "metadata": {},
   "outputs": [
    {
     "data": {
      "text/plain": [
       "torch.Size([1])"
      ]
     },
     "execution_count": 6,
     "metadata": {},
     "output_type": "execute_result"
    }
   ],
   "source": [
    "pred = model_dot(dummy_data)\n",
    "pred.shape"
   ]
  },
  {
   "cell_type": "markdown",
   "id": "5b5db62d-d076-4e7d-b294-05f0e93b28d9",
   "metadata": {},
   "source": [
    "### Test with batched dummy data\n",
    "* Shape: (N, F)\n",
    "* *N* is the batch size, *F* is the features dim"
   ]
  },
  {
   "cell_type": "code",
   "execution_count": 7,
   "id": "1ff0aefc-2325-494f-8046-bf987fdfa831",
   "metadata": {},
   "outputs": [
    {
     "data": {
      "text/plain": [
       "torch.Size([32, 20])"
      ]
     },
     "execution_count": 7,
     "metadata": {},
     "output_type": "execute_result"
    }
   ],
   "source": [
    "batch_size = 32\n",
    "features = 20\n",
    "\n",
    "dummy_data_batch = torch.randn(batch_size, features)\n",
    "dummy_data_batch.shape"
   ]
  },
  {
   "cell_type": "markdown",
   "id": "1440f454-aa04-4210-8764-d21559d71d98",
   "metadata": {},
   "source": [
    "### Dot product doesn't work anymore!\n",
    "* https://pytorch.org/docs/stable/generated/torch.dot.html\n",
    "* Dot product only work 1D tensors"
   ]
  },
  {
   "cell_type": "code",
   "execution_count": 24,
   "id": "b74a0ea4-8676-449f-9973-af2ee068dc28",
   "metadata": {},
   "outputs": [],
   "source": [
    "#pred = model_dot(dummy_data_batch)\n",
    "#pred.shape"
   ]
  },
  {
   "cell_type": "markdown",
   "id": "82fee384-b285-4c44-9c1a-092e3f1d7467",
   "metadata": {},
   "source": [
    "## Using Matrix Multiplication"
   ]
  },
  {
   "cell_type": "code",
   "execution_count": 9,
   "id": "a0d42928-7a24-47b7-81b3-2bb7eebb24c3",
   "metadata": {},
   "outputs": [],
   "source": [
    "class BasicLinearMM(nn.Module):\n",
    "    def __init__(self, features_dim):\n",
    "        # YOU NEED TO RUN FOR INITIALIZATION OF MODULE\n",
    "        super().__init__() \n",
    "\n",
    "        self.w_0 = nn.Parameter(torch.zeros(1))\n",
    "        # 2D parameter are required for matrix multiplication!\n",
    "        self.w_1 = nn.Parameter(torch.randn(1, features_dim))\n",
    "\n",
    "    def forward(self, x):\n",
    "        # x.shape: (N, F)\n",
    "        # w_1.shape: (1, F)\n",
    "        # x * w_1.T -> (N, F) * (F, 1)\n",
    "        # .T mean transpose\n",
    "        y = torch.mm(x, self.w_1.T) + self.w_0\n",
    "        return y"
   ]
  },
  {
   "cell_type": "code",
   "execution_count": 10,
   "id": "428c9042-a283-4ba6-bdcd-304a597b59ad",
   "metadata": {},
   "outputs": [],
   "source": [
    "model_mm = BasicLinearMM(features_dim=20)"
   ]
  },
  {
   "cell_type": "code",
   "execution_count": 11,
   "id": "5ee22972-eb49-475c-a5ca-aa861045d6e7",
   "metadata": {},
   "outputs": [
    {
     "data": {
      "text/plain": [
       "torch.Size([32, 1])"
      ]
     },
     "execution_count": 11,
     "metadata": {},
     "output_type": "execute_result"
    }
   ],
   "source": [
    "# dummy_data_batch.shape: (N, F)\n",
    "pred = model_mm(dummy_data_batch)\n",
    "pred.shape"
   ]
  },
  {
   "cell_type": "markdown",
   "id": "710169c5-e462-449d-92cb-ac63b7122d89",
   "metadata": {},
   "source": [
    "## What if we need a specific output feature dim?"
   ]
  },
  {
   "cell_type": "code",
   "execution_count": 12,
   "id": "05a2f0cb-c268-4841-8c10-46b64f0b2dc6",
   "metadata": {},
   "outputs": [],
   "source": [
    "class BasicLinearMMImproved(nn.Module):\n",
    "    def __init__(self, in_features, out_features):\n",
    "        # YOU NEED TO RUN FOR INITIALIZATION OF MODULE\n",
    "        super().__init__() \n",
    "        \n",
    "        self.w_0 = nn.Parameter(torch.zeros(out_features))\n",
    "        # 2D parameter are required for matrix multiplication!\n",
    "        self.w_1 = nn.Parameter(torch.randn(out_features, in_features))\n",
    "\n",
    "    def forward(self, x):\n",
    "        # x.shape: (N, F_in)\n",
    "        # w_1.shape: (F_out, F_in)\n",
    "        # x * w_1.T -> (N, F_in) * (F_in, F_out)\n",
    "        # .T mean transpose\n",
    "        y = torch.mm(x, self.w_1.T) + self.w_0\n",
    "        return y"
   ]
  },
  {
   "cell_type": "code",
   "execution_count": 29,
   "id": "9e9e621e-9cd9-4176-a834-f64e99233954",
   "metadata": {},
   "outputs": [],
   "source": [
    "model_mm_improved = BasicLinearMMImproved(in_features=20, out_features=4)"
   ]
  },
  {
   "cell_type": "code",
   "execution_count": 30,
   "id": "5017eba2-e661-4ef3-8a60-6c5cc2a540c5",
   "metadata": {},
   "outputs": [
    {
     "data": {
      "text/plain": [
       "torch.Size([32, 4])"
      ]
     },
     "execution_count": 30,
     "metadata": {},
     "output_type": "execute_result"
    }
   ],
   "source": [
    "# dummy_data_batch.shape: (N, F)\n",
    "pred = model_mm_improved(dummy_data_batch)\n",
    "pred.shape"
   ]
  },
  {
   "cell_type": "markdown",
   "id": "963aedf8-c72e-4490-8c74-5c20cce9897b",
   "metadata": {},
   "source": [
    "# What if we have high dimentional data (3 or more)?"
   ]
  },
  {
   "cell_type": "markdown",
   "id": "42f48917-64ec-4408-bbd0-964fc38fc6f9",
   "metadata": {},
   "source": [
    "### Test with higher dimentional batched dummy data\n",
    "* Shape: (N, S, F)\n",
    "* *N* is the batch size, *S* sequence length, *F* is the features dim"
   ]
  },
  {
   "cell_type": "code",
   "execution_count": 15,
   "id": "dead45bb-139f-4725-b4e1-3a96364f1059",
   "metadata": {},
   "outputs": [
    {
     "data": {
      "text/plain": [
       "torch.Size([32, 10, 20])"
      ]
     },
     "execution_count": 15,
     "metadata": {},
     "output_type": "execute_result"
    }
   ],
   "source": [
    "batch_size = 32\n",
    "sequence_length = 10\n",
    "features = 20\n",
    "\n",
    "dummy_multidim_data_batch = torch.randn(batch_size, sequence_length, features)\n",
    "dummy_multidim_data_batch.shape"
   ]
  },
  {
   "cell_type": "markdown",
   "id": "f3af7fce-6fae-4740-a5cb-efbd46dfe497",
   "metadata": {},
   "source": [
    "### Matrix multiplication doesn't work anymore!\n",
    "* https://pytorch.org/docs/stable/generated/torch.mm.html\n",
    "* Matrix multiplication only work 2D tensors"
   ]
  },
  {
   "cell_type": "code",
   "execution_count": 32,
   "id": "04b8419a-56c4-4f6d-9cee-ac84c0fe9459",
   "metadata": {},
   "outputs": [],
   "source": [
    "# dummy_data_batch.shape: (N, S, F)\n",
    "#pred = model_mm_improved(dummy_multidim_data_batch)\n",
    "#pred.shape"
   ]
  },
  {
   "cell_type": "markdown",
   "id": "d65cfcc7-203d-46eb-b530-7ec4788ba6f6",
   "metadata": {},
   "source": [
    "## Using Broadcastable Matrix Multiplication\n",
    "### matmul is the most generic function that can perform everything above and more!\n",
    "* https://pytorch.org/docs/stable/generated/torch.matmul.html\n",
    "* Performs a different operation depending on the input dimensions!"
   ]
  },
  {
   "cell_type": "code",
   "execution_count": 17,
   "id": "60a4ec5c-f332-4cc7-936a-6b5bb3c93325",
   "metadata": {},
   "outputs": [],
   "source": [
    "class BasicLinearBroadcastable(nn.Module):\n",
    "    def __init__(self, in_features, out_features):\n",
    "        # YOU NEED TO RUN FOR INITIALIZATION OF MODULE\n",
    "        super().__init__() \n",
    "        \n",
    "        self.w_0 = nn.Parameter(torch.zeros(out_features))\n",
    "        # 2D parameter are required for matrix multiplication!\n",
    "        self.w_1 = nn.Parameter(torch.randn(out_features, in_features))\n",
    "\n",
    "    def forward(self, x):\n",
    "        # x.shape: (N, S, F_in)\n",
    "        # w_1.shape: (F_out, F_in)\n",
    "        # x * w_1.T -> (N, S, F_in) * (F_in, F_out)\n",
    "        # .T mean transpose\n",
    "        # OPERATION IS BROADCASTED OVER \"S\" DIMENSION\n",
    "        y = torch.matmul(x, self.w_1.T) + self.w_0\n",
    "        return y"
   ]
  },
  {
   "cell_type": "code",
   "execution_count": 18,
   "id": "a10211cf-0ecb-4903-9f72-25d6bc2b2553",
   "metadata": {},
   "outputs": [],
   "source": [
    "model_broadcastable = BasicLinearBroadcastable(in_features=20, out_features=4)"
   ]
  },
  {
   "cell_type": "code",
   "execution_count": 19,
   "id": "c05ef4fd-18f0-48c6-bcb8-c2f38579f357",
   "metadata": {},
   "outputs": [
    {
     "data": {
      "text/plain": [
       "torch.Size([32, 10, 4])"
      ]
     },
     "execution_count": 19,
     "metadata": {},
     "output_type": "execute_result"
    }
   ],
   "source": [
    "pred = model_broadcastable(dummy_multidim_data_batch)\n",
    "pred.shape"
   ]
  },
  {
   "cell_type": "code",
   "execution_count": null,
   "id": "d784f9ee-40bc-4418-a64e-49489585e84a",
   "metadata": {},
   "outputs": [],
   "source": []
  },
  {
   "cell_type": "code",
   "execution_count": null,
   "id": "4e9f0f40-81d5-46a5-b07a-3cfb3c5db41c",
   "metadata": {},
   "outputs": [],
   "source": [
    "(N, S, F) # text\n",
    "(N, C, H, W) # image\n",
    "(N, S, C, H, W) # video"
   ]
  },
  {
   "cell_type": "code",
   "execution_count": null,
   "id": "89114f11-6d23-49e8-9a81-75da16447b06",
   "metadata": {},
   "outputs": [],
   "source": []
  }
 ],
 "metadata": {
  "kernelspec": {
   "display_name": "Python [conda env:pytorch] *",
   "language": "python",
   "name": "conda-env-pytorch-py"
  },
  "language_info": {
   "codemirror_mode": {
    "name": "ipython",
    "version": 3
   },
   "file_extension": ".py",
   "mimetype": "text/x-python",
   "name": "python",
   "nbconvert_exporter": "python",
   "pygments_lexer": "ipython3",
   "version": "3.10.12"
  }
 },
 "nbformat": 4,
 "nbformat_minor": 5
}
