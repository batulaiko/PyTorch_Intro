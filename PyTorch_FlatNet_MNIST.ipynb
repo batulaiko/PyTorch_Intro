{
 "cells": [
  {
   "cell_type": "code",
   "execution_count": 1,
   "id": "266c19bd-e085-4f0a-b2e6-b2b0be84e9fe",
   "metadata": {},
   "outputs": [
    {
     "name": "stdout",
     "output_type": "stream",
     "text": [
      "Using device: cuda\n"
     ]
    }
   ],
   "source": [
    "import torch\n",
    "import torch.nn as nn\n",
    "import torch.nn.functional as F\n",
    "\n",
    "from torchvision import datasets, transforms\n",
    "\n",
    "device = 'cuda' if torch.cuda.is_available() else 'cpu'\n",
    "\n",
    "print(f'Using device: {device}')"
   ]
  },
  {
   "cell_type": "markdown",
   "id": "1f22d7d7-acdf-42d1-90fe-14f7c8cbe705",
   "metadata": {},
   "source": [
    "# Dataset \n",
    "* From PyTorch built-in datasets"
   ]
  },
  {
   "cell_type": "code",
   "execution_count": 2,
   "id": "7dd85ec1-699e-4f0a-829a-fd7652d02411",
   "metadata": {},
   "outputs": [],
   "source": [
    "transform=transforms.Compose([\n",
    "    transforms.ToTensor(),\n",
    "    transforms.Normalize((0.5,), (0.5,)),\n",
    "])"
   ]
  },
  {
   "cell_type": "code",
   "execution_count": 3,
   "id": "20f74917-c899-45bd-9b77-74a3357fb5ae",
   "metadata": {},
   "outputs": [],
   "source": [
    "train_dataset = datasets.MNIST(\n",
    "    root='./data', \n",
    "    train=True, \n",
    "    download=True,               \n",
    "    transform=transform\n",
    ")\n",
    "\n",
    "test_dataset = datasets.MNIST(\n",
    "    root='./data', \n",
    "    train=False,\n",
    "    transform=transform\n",
    ")"
   ]
  },
  {
   "cell_type": "code",
   "execution_count": 4,
   "id": "86854115-7e21-4256-a51f-2749b3238e4e",
   "metadata": {},
   "outputs": [
    {
     "data": {
      "text/plain": [
       "['0 - zero',\n",
       " '1 - one',\n",
       " '2 - two',\n",
       " '3 - three',\n",
       " '4 - four',\n",
       " '5 - five',\n",
       " '6 - six',\n",
       " '7 - seven',\n",
       " '8 - eight',\n",
       " '9 - nine']"
      ]
     },
     "execution_count": 4,
     "metadata": {},
     "output_type": "execute_result"
    }
   ],
   "source": [
    "train_dataset.classes"
   ]
  },
  {
   "cell_type": "code",
   "execution_count": 5,
   "id": "ab94dd4f-610d-4524-8524-c21b7fa3fdab",
   "metadata": {},
   "outputs": [
    {
     "data": {
      "text/plain": [
       "10"
      ]
     },
     "execution_count": 5,
     "metadata": {},
     "output_type": "execute_result"
    }
   ],
   "source": [
    "NUM_CLASSES = len(train_dataset.classes)\n",
    "NUM_CLASSES"
   ]
  },
  {
   "cell_type": "code",
   "execution_count": 6,
   "id": "8dfea0bf-5dc6-4d81-95a4-69347931cb3a",
   "metadata": {},
   "outputs": [
    {
     "name": "stdout",
     "output_type": "stream",
     "text": [
      "torch.Size([1, 28, 28])\n",
      "5\n"
     ]
    }
   ],
   "source": [
    "ex_img, ex_target = train_dataset[0] # img, seg_mask\n",
    "\n",
    "print(ex_img.shape)\n",
    "print(ex_target) "
   ]
  },
  {
   "cell_type": "markdown",
   "id": "29d2b5b0-1090-4ad1-bda0-138fc6285cc1",
   "metadata": {},
   "source": [
    "# Dataloader"
   ]
  },
  {
   "cell_type": "code",
   "execution_count": 7,
   "id": "6ac8df78-722b-4b54-9b68-6b92dc72ff5d",
   "metadata": {},
   "outputs": [],
   "source": [
    "train_loader = torch.utils.data.DataLoader(\n",
    "    dataset=train_dataset,\n",
    "    batch_size=32,\n",
    "    shuffle=True,\n",
    "    num_workers=6,\n",
    "    pin_memory=False,\n",
    ")\n",
    "\n",
    "test_loader = torch.utils.data.DataLoader(\n",
    "    dataset=test_dataset,\n",
    "    batch_size=32,\n",
    "    shuffle=True,\n",
    "    num_workers=6,\n",
    "    pin_memory=False,\n",
    ")"
   ]
  },
  {
   "cell_type": "code",
   "execution_count": 8,
   "id": "0a633bc5-b7d5-43a2-9ef6-6959b6540f64",
   "metadata": {},
   "outputs": [
    {
     "name": "stdout",
     "output_type": "stream",
     "text": [
      "torch.Size([32, 1, 28, 28])\n",
      "torch.Size([32])\n"
     ]
    }
   ],
   "source": [
    "ex_img_batch, ex_target_batch = next(iter(train_loader))\n",
    "print(ex_img_batch.shape)\n",
    "print(ex_target_batch.shape)"
   ]
  },
  {
   "cell_type": "markdown",
   "id": "e1530837-98b8-429a-b2b0-356eb1edd436",
   "metadata": {},
   "source": [
    "# Model"
   ]
  },
  {
   "cell_type": "markdown",
   "id": "04b4d0c4-dc8d-4601-95a9-f3b988d888d8",
   "metadata": {},
   "source": [
    "### Flatten Operation"
   ]
  },
  {
   "cell_type": "code",
   "execution_count": 9,
   "id": "d9987370-f5f7-4f54-b623-914618dcf456",
   "metadata": {},
   "outputs": [
    {
     "data": {
      "text/plain": [
       "torch.Size([32, 1, 28, 28])"
      ]
     },
     "execution_count": 9,
     "metadata": {},
     "output_type": "execute_result"
    }
   ],
   "source": [
    "x_r = torch.randn(32, 1, 28, 28)\n",
    "x_r.shape"
   ]
  },
  {
   "cell_type": "code",
   "execution_count": 10,
   "id": "ab97a0f5-cfcb-4337-8cdf-913fe8e3226c",
   "metadata": {},
   "outputs": [
    {
     "data": {
      "text/plain": [
       "32"
      ]
     },
     "execution_count": 10,
     "metadata": {},
     "output_type": "execute_result"
    }
   ],
   "source": [
    "bz = x_r.shape[0]\n",
    "bz"
   ]
  },
  {
   "cell_type": "code",
   "execution_count": 11,
   "id": "0011d404-342b-4dac-8eb6-5aca27fff869",
   "metadata": {},
   "outputs": [
    {
     "data": {
      "text/plain": [
       "torch.Size([32, 784])"
      ]
     },
     "execution_count": 11,
     "metadata": {},
     "output_type": "execute_result"
    }
   ],
   "source": [
    "#x_r_r = x_r.reshape(bz, 1*28*28)\n",
    "x_r_r = x_r.reshape(bz, -1)\n",
    "x_r_r.shape"
   ]
  },
  {
   "cell_type": "code",
   "execution_count": 12,
   "id": "9307bea5-d39d-4610-93d7-9248c6c919f5",
   "metadata": {},
   "outputs": [],
   "source": [
    "class FlattenLayer(nn.Module):\n",
    "    def __init__(self):\n",
    "        super().__init__()\n",
    "\n",
    "    def forward(self, x):\n",
    "        batch_size = x.shape[0]\n",
    "        return x.reshape(batch_size, -1)"
   ]
  },
  {
   "cell_type": "code",
   "execution_count": 13,
   "id": "f8c16ad2-37ca-4e68-9ca0-ca23caffbab2",
   "metadata": {},
   "outputs": [],
   "source": [
    "class FlatNet(nn.Module):\n",
    "    def __init__(self):\n",
    "        super().__init__()\n",
    "        self.flatten = FlattenLayer()\n",
    "        self.linear1 = nn.Linear(1*28*28, 512) # 784 -> 512 \n",
    "        self.linear2 = nn.Linear(512, 10) # 512 -> 10 \n",
    "\n",
    "        self.activation_fn = nn.ReLU()\n",
    "\n",
    "    def forward(self, x):\n",
    "        x_flat = self.flatten(x)\n",
    "        x_linear1 = self.linear1(x_flat)\n",
    "        x_linear1_act = self.activation_fn(x_linear1)\n",
    "        class_logits = self.linear2(x_linear1_act)\n",
    "        return class_logits"
   ]
  },
  {
   "cell_type": "markdown",
   "id": "f8f606db-a09f-4805-b5ec-e31cfa962b2e",
   "metadata": {},
   "source": [
    "### Better implementation"
   ]
  },
  {
   "cell_type": "raw",
   "id": "6201ca03-832d-4ed4-b2cb-43ed91fc5ecf",
   "metadata": {},
   "source": [
    "class Net(nn.Module):\n",
    "    def __init__(self, input_channels, witdh, height, num_classes):\n",
    "        super(Net, self).__init__()\n",
    "        self.flatten = FlattenLayer()\n",
    "        self.linear1 = nn.Linear(input_channels*witdh*height, hidden_size)\n",
    "        self.linear2 = nn.Linear(hidden_size, num_classes)\n",
    "\n",
    "        self.activation_fn = nn.ReLU()\n",
    "\n",
    "    def forward(self, x):\n",
    "        x_flat = self.flatten(x)\n",
    "        x_linear1 = self.linear1(x_flat)\n",
    "        x_linear1_act = self.activation_fn(x_linear1)\n",
    "        class_logits = self.linear(x_linear1_act)\n",
    "        return class_logits"
   ]
  },
  {
   "cell_type": "markdown",
   "id": "f8e8bff8-0909-4a56-a0ef-a93383dc5f85",
   "metadata": {},
   "source": [
    "### Dummy Input for Dimentional Testing"
   ]
  },
  {
   "cell_type": "code",
   "execution_count": 14,
   "id": "fa53ac93-5ff9-407a-b317-0b29bf9b03b6",
   "metadata": {},
   "outputs": [],
   "source": [
    "model = FlatNet()"
   ]
  },
  {
   "cell_type": "code",
   "execution_count": 15,
   "id": "afa199a8-3bad-44d1-b20f-1394d4c13e52",
   "metadata": {},
   "outputs": [],
   "source": [
    "dummy_input = torch.randn(1, 1, 28, 28)"
   ]
  },
  {
   "cell_type": "code",
   "execution_count": 16,
   "id": "73fdfd1a-5b83-4a89-a385-ae50cf3d2f56",
   "metadata": {},
   "outputs": [
    {
     "data": {
      "text/plain": [
       "torch.Size([1, 10])"
      ]
     },
     "execution_count": 16,
     "metadata": {},
     "output_type": "execute_result"
    }
   ],
   "source": [
    "dummy_preds = model(dummy_input)\n",
    "dummy_preds.shape"
   ]
  },
  {
   "cell_type": "markdown",
   "id": "af089da4-9faf-4345-ab35-cb06f15ed7ea",
   "metadata": {},
   "source": [
    "## Print Model Parametrs"
   ]
  },
  {
   "cell_type": "code",
   "execution_count": 17,
   "id": "69eec7c4-8738-4e74-a8dc-873dc15c39df",
   "metadata": {},
   "outputs": [
    {
     "name": "stdout",
     "output_type": "stream",
     "text": [
      "torch.Size([512, 784])\n",
      "torch.Size([512])\n",
      "torch.Size([10, 512])\n",
      "torch.Size([10])\n"
     ]
    }
   ],
   "source": [
    "for p in model.parameters():\n",
    "    print(p.shape)"
   ]
  },
  {
   "cell_type": "markdown",
   "id": "a6a18b9e-6ef5-4d35-9f32-2d68d6eebda4",
   "metadata": {},
   "source": [
    "## Pretty Print with Names"
   ]
  },
  {
   "cell_type": "code",
   "execution_count": 18,
   "id": "1aa09b96-ab09-437f-9694-e193a1d553b6",
   "metadata": {},
   "outputs": [
    {
     "name": "stdout",
     "output_type": "stream",
     "text": [
      "name: linear1.weight and parameter data: torch.Size([512, 784])\n",
      "name: linear1.bias and parameter data: torch.Size([512])\n",
      "name: linear2.weight and parameter data: torch.Size([10, 512])\n",
      "name: linear2.bias and parameter data: torch.Size([10])\n"
     ]
    }
   ],
   "source": [
    "for n, p in model.named_parameters():\n",
    "    print(f'name: {n} and parameter data: {p.shape}')"
   ]
  },
  {
   "cell_type": "markdown",
   "id": "55dbcdf7-8fb8-4806-802d-517e93cc5bb8",
   "metadata": {},
   "source": [
    "# Optimizer & Loss"
   ]
  },
  {
   "cell_type": "code",
   "execution_count": 19,
   "id": "fbb57fef-8e78-4933-9bba-d233099fef3b",
   "metadata": {},
   "outputs": [],
   "source": [
    "model = FlatNet().to(device)\n",
    "\n",
    "optimizer = torch.optim.SGD(\n",
    "    model.parameters(), \n",
    "    lr=0.02\n",
    ")\n",
    "\n",
    "criterion = nn.CrossEntropyLoss()"
   ]
  },
  {
   "cell_type": "markdown",
   "id": "4074574d-6d9f-4e24-b31c-7b632b4a0d23",
   "metadata": {},
   "source": [
    "# Training"
   ]
  },
  {
   "cell_type": "code",
   "execution_count": 20,
   "id": "983d859b-b9c8-4c71-a657-945d78263c70",
   "metadata": {},
   "outputs": [],
   "source": [
    "LOG_INTERVAL = 1000"
   ]
  },
  {
   "cell_type": "code",
   "execution_count": 21,
   "id": "c63a8d8f-ae53-4779-8fdf-a73c510cf789",
   "metadata": {},
   "outputs": [],
   "source": [
    "def train(model, train_loader, optimizer, criterion, epoch):\n",
    "    model.train()\n",
    "    for batch_idx, (img, target) in enumerate(train_loader):\n",
    "        img, target = img.to(device), target.to(device)\n",
    "\n",
    "        # Zero gradients, perform a backward pass, and update the weights.\n",
    "        # In PyTorch, gradients are accumulated, you need to reset gradients in each loop\n",
    "        optimizer.zero_grad()\n",
    "\n",
    "        # Forward pass\n",
    "        preds = model(img)\n",
    "        loss = criterion(preds, target)\n",
    "        \n",
    "        # Compute gradients\n",
    "        loss.backward()\n",
    "        # Update gradients\n",
    "        optimizer.step()\n",
    "        \n",
    "        if batch_idx % LOG_INTERVAL == 0:\n",
    "            print('Train Epoch: {} [{}/{} ({:.0f}%)]\\tLoss: {:.6f}'.format(\n",
    "                epoch, batch_idx * len(img), len(train_loader.dataset),\n",
    "                100. * batch_idx / len(train_loader), loss.item()))"
   ]
  },
  {
   "cell_type": "markdown",
   "id": "64d7a8f3-97a9-47c4-ae8f-152cff9f43fa",
   "metadata": {},
   "source": [
    "# Testing"
   ]
  },
  {
   "cell_type": "raw",
   "id": "dad20115-cf7a-47db-a0c2-c01b76ec6474",
   "metadata": {},
   "source": [
    "def test(model, test_loader, criterion):\n",
    "    model.eval()\n",
    "    test_loss = 0\n",
    "    correct = 0\n",
    "    \n",
    "    with torch.no_grad():\n",
    "        for img, target in test_loader:\n",
    "            img, target = img.to(device), target.to(device)\n",
    "            preds = model(img)\n",
    "            test_loss += criterion(preds, target)\n",
    "            pred_max = preds.argmax(dim=1, keepdim=True)  # get the index of the max probable class\n",
    "            correct += pred_max.eq(target.view_as(pred_max)).sum().item()\n",
    "\n",
    "    test_loss /= len(test_loader.dataset)\n",
    "\n",
    "    print('\\nTest set: Average loss: {:.4f}, Accuracy: {}/{} ({:.0f}%)\\n'.format(\n",
    "        test_loss, correct, len(test_loader.dataset),\n",
    "        100. * correct / len(test_loader.dataset)))"
   ]
  },
  {
   "cell_type": "markdown",
   "id": "8e0ba600-7273-49bb-9fac-e12ad9757a63",
   "metadata": {},
   "source": [
    "### Function Decorator"
   ]
  },
  {
   "cell_type": "code",
   "execution_count": 22,
   "id": "e9681684-6f03-4315-bc03-137f0f6c4619",
   "metadata": {},
   "outputs": [],
   "source": [
    "@torch.no_grad()\n",
    "def test(model, test_loader, criterion):\n",
    "    model.eval()\n",
    "    test_loss = 0\n",
    "    correct = 0\n",
    "    \n",
    "    for img, target in test_loader:\n",
    "        img, target = img.to(device), target.to(device)\n",
    "        \n",
    "        preds = model(img)\n",
    "        test_loss += criterion(preds, target)\n",
    "        \n",
    "        pred_max = preds.argmax(dim=1, keepdim=True)  # get the index of the max probable class\n",
    "        correct += pred_max.eq(target.view_as(pred_max)).sum().item()\n",
    "\n",
    "    test_loss /= len(test_loader.dataset)\n",
    "\n",
    "    print('\\nTest set: Average loss: {:.4f}, Accuracy: {}/{} ({:.0f}%)\\n'.format(\n",
    "        test_loss, correct, len(test_loader.dataset),\n",
    "        100. * correct / len(test_loader.dataset)))"
   ]
  },
  {
   "cell_type": "markdown",
   "id": "edf4709d-ff10-42ff-9bf2-d8452c3ff7fb",
   "metadata": {},
   "source": [
    "### Start Training\r\n",
    "* Training consists of two steps: forward and backward propagation\r\n",
    "* In forward propagation, we input the data into the model and measure the error (with loss function)\r\n",
    "* In backward propagation, we adjust the internal paramters of the model so that model makes better predictions next time\r\n",
    "* One complete cycle of the dataset is called \"epoch\" (one loop cycle of all data)"
   ]
  },
  {
   "cell_type": "code",
   "execution_count": 23,
   "id": "de20bdf1-d69b-491d-a16c-d5fa8d33e452",
   "metadata": {},
   "outputs": [
    {
     "name": "stdout",
     "output_type": "stream",
     "text": [
      "Train Epoch: 1 [0/60000 (0%)]\tLoss: 2.314715\n",
      "Train Epoch: 1 [32000/60000 (53%)]\tLoss: 0.504588\n",
      "\n",
      "Test set: Average loss: 0.0083, Accuracy: 9212/10000 (92%)\n",
      "\n",
      "Train Epoch: 2 [0/60000 (0%)]\tLoss: 0.354858\n",
      "Train Epoch: 2 [32000/60000 (53%)]\tLoss: 0.335521\n",
      "\n",
      "Test set: Average loss: 0.0068, Accuracy: 9357/10000 (94%)\n",
      "\n",
      "Train Epoch: 3 [0/60000 (0%)]\tLoss: 0.257280\n",
      "Train Epoch: 3 [32000/60000 (53%)]\tLoss: 0.025912\n",
      "\n",
      "Test set: Average loss: 0.0049, Accuracy: 9548/10000 (95%)\n",
      "\n",
      "Train Epoch: 4 [0/60000 (0%)]\tLoss: 0.377854\n",
      "Train Epoch: 4 [32000/60000 (53%)]\tLoss: 0.232900\n",
      "\n",
      "Test set: Average loss: 0.0042, Accuracy: 9615/10000 (96%)\n",
      "\n",
      "Train Epoch: 5 [0/60000 (0%)]\tLoss: 0.082840\n",
      "Train Epoch: 5 [32000/60000 (53%)]\tLoss: 0.063783\n",
      "\n",
      "Test set: Average loss: 0.0037, Accuracy: 9654/10000 (97%)\n",
      "\n",
      "Train Epoch: 6 [0/60000 (0%)]\tLoss: 0.084077\n",
      "Train Epoch: 6 [32000/60000 (53%)]\tLoss: 0.052400\n",
      "\n",
      "Test set: Average loss: 0.0034, Accuracy: 9678/10000 (97%)\n",
      "\n",
      "Train Epoch: 7 [0/60000 (0%)]\tLoss: 0.053009\n",
      "Train Epoch: 7 [32000/60000 (53%)]\tLoss: 0.032476\n",
      "\n",
      "Test set: Average loss: 0.0031, Accuracy: 9707/10000 (97%)\n",
      "\n",
      "Train Epoch: 8 [0/60000 (0%)]\tLoss: 0.126299\n",
      "Train Epoch: 8 [32000/60000 (53%)]\tLoss: 0.051406\n",
      "\n",
      "Test set: Average loss: 0.0029, Accuracy: 9718/10000 (97%)\n",
      "\n",
      "Train Epoch: 9 [0/60000 (0%)]\tLoss: 0.119357\n",
      "Train Epoch: 9 [32000/60000 (53%)]\tLoss: 0.082315\n",
      "\n",
      "Test set: Average loss: 0.0028, Accuracy: 9731/10000 (97%)\n",
      "\n",
      "Train Epoch: 10 [0/60000 (0%)]\tLoss: 0.019770\n",
      "Train Epoch: 10 [32000/60000 (53%)]\tLoss: 0.142264\n",
      "\n",
      "Test set: Average loss: 0.0026, Accuracy: 9761/10000 (98%)\n",
      "\n"
     ]
    }
   ],
   "source": [
    "NUM_EPOCHS = 10\n",
    "\n",
    "for epoch in range(1, NUM_EPOCHS+1):\n",
    "    train(model, train_loader, optimizer, criterion, epoch)\n",
    "    test(model, test_loader, criterion)"
   ]
  },
  {
   "cell_type": "markdown",
   "id": "8df9dd1d-1a41-4566-b221-797a810db108",
   "metadata": {},
   "source": [
    "# Save/Load Model"
   ]
  },
  {
   "cell_type": "code",
   "execution_count": 24,
   "id": "cd05fecf-fb3c-45b9-beba-e738d8712d76",
   "metadata": {},
   "outputs": [],
   "source": [
    "torch.save({\n",
    "    'model_state_dict': model.state_dict(),\n",
    "    'optimizer_state_dict': optimizer.state_dict()\n",
    "},\n",
    "    'flatnet_checkpoint.pt'\n",
    ")"
   ]
  }
 ],
 "metadata": {
  "kernelspec": {
   "display_name": "Python [conda env:pytorch] *",
   "language": "python",
   "name": "conda-env-pytorch-py"
  },
  "language_info": {
   "codemirror_mode": {
    "name": "ipython",
    "version": 3
   },
   "file_extension": ".py",
   "mimetype": "text/x-python",
   "name": "python",
   "nbconvert_exporter": "python",
   "pygments_lexer": "ipython3",
   "version": "3.10.12"
  }
 },
 "nbformat": 4,
 "nbformat_minor": 5
}
